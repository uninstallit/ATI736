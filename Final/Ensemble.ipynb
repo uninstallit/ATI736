{
 "cells": [
  {
   "cell_type": "markdown",
   "id": "metallic-palestine",
   "metadata": {},
   "source": [
    "## Ensemble"
   ]
  },
  {
   "cell_type": "code",
   "execution_count": 1,
   "id": "bizarre-performance",
   "metadata": {},
   "outputs": [],
   "source": [
    "import numpy as np\n",
    "\n",
    "with open(\"data/train_pixels.npy\", \"rb\") as f:\n",
    "    X_train = np.load(f)\n",
    "    \n",
    "with open(\"data/train_labels.npy\", \"rb\") as f:\n",
    "    y_train = np.load(f)\n",
    "    \n",
    "with open(\"data/test_pixels.npy\", \"rb\") as f:\n",
    "    X_test = np.load(f)\n",
    "    \n",
    "with open(\"data/test_labels.npy\", \"rb\") as f:\n",
    "    y_test = np.load(f)\n",
    "\n",
    "with open(\"data/train_landmarks.npy\", \"rb\") as f:\n",
    "    X_trainLAND = np.load(f)\n",
    "    \n",
    "with open(\"data/test_landmarks.npy\", \"rb\") as f:\n",
    "    X_testLAND = np.load(f)"
   ]
  },
  {
   "cell_type": "code",
   "execution_count": 2,
   "id": "pending-barrel",
   "metadata": {},
   "outputs": [],
   "source": [
    "X_trainSVM = X_train.reshape(-1, 48*48)\n",
    "X_testSVM = X_test.reshape(-1, 48*48)"
   ]
  },
  {
   "cell_type": "markdown",
   "id": "alive-catholic",
   "metadata": {},
   "source": [
    "## Model 1 - SVM with Pixels"
   ]
  },
  {
   "cell_type": "code",
   "execution_count": 3,
   "id": "baking-patio",
   "metadata": {},
   "outputs": [],
   "source": [
    "from sklearn.svm import SVC\n",
    "from sklearn.decomposition import PCA as RandomizedPCA\n",
    "\n",
    "n_components = 110\n",
    "pca1 = RandomizedPCA(n_components=n_components, whiten=True, random_state=42).fit(X_trainSVM)\n",
    "\n",
    "X_train_pca1 = pca1.transform(X_trainSVM)\n",
    "X_test_pca1 = pca1.transform(X_testSVM)\n",
    "\n",
    "SVM1 = SVC(kernel='rbf', class_weight='balanced', probability=True)\n",
    "SVM1 = SVM1.fit(X_train_pca1, y_train)"
   ]
  },
  {
   "cell_type": "markdown",
   "id": "musical-bikini",
   "metadata": {},
   "source": [
    "## Model 2 - SVM with Landmarks"
   ]
  },
  {
   "cell_type": "code",
   "execution_count": 4,
   "id": "certain-spray",
   "metadata": {},
   "outputs": [],
   "source": [
    "n_components = 80\n",
    "pca2 = RandomizedPCA(n_components=n_components, whiten=True, random_state=42).fit(X_trainLAND)\n",
    "\n",
    "X_train_pca2 = pca2.transform(X_trainLAND)\n",
    "X_test_pca2 = pca2.transform(X_testLAND)\n",
    "\n",
    "SVM2 = SVC(kernel='rbf', class_weight='balanced', probability=True)\n",
    "SVM2 = SVM2.fit(X_train_pca2, y_train)"
   ]
  },
  {
   "cell_type": "markdown",
   "id": "accepted-float",
   "metadata": {},
   "source": [
    "## Model 3 - XGBoost with Pixels"
   ]
  },
  {
   "cell_type": "code",
   "execution_count": 5,
   "id": "driving-announcement",
   "metadata": {},
   "outputs": [
    {
     "name": "stdout",
     "output_type": "stream",
     "text": [
      "fitting\n"
     ]
    },
    {
     "data": {
      "text/plain": [
       "XGBClassifier(base_score=0.5, booster='gbtree', colsample_bylevel=1,\n",
       "              colsample_bynode=1, colsample_bytree=1, eval_metric='mlogloss',\n",
       "              gamma=0, gpu_id=-1, importance_type='gain',\n",
       "              interaction_constraints='', learning_rate=0.300000012,\n",
       "              max_delta_step=0, max_depth=6, min_child_weight=1, missing=nan,\n",
       "              monotone_constraints='()', n_estimators=100, n_jobs=12,\n",
       "              num_class=7, num_parallel_tree=1, objective='multi:softprob',\n",
       "              random_state=0, reg_alpha=0, reg_lambda=1, scale_pos_weight=None,\n",
       "              subsample=1, tree_method='exact', use_label_encoder=False,\n",
       "              validate_parameters=1, verbosity=None)"
      ]
     },
     "execution_count": 5,
     "metadata": {},
     "output_type": "execute_result"
    }
   ],
   "source": [
    "from xgboost import XGBClassifier\n",
    "\n",
    "emotions = ['Angry', 'Disgust', 'Fear', 'Happy', 'Sad', 'Surprise', 'Neutral']\n",
    "\n",
    "XGB1 = XGBClassifier(objective='multi:softprob', \n",
    "                         num_class= len(emotions), \n",
    "                         use_label_encoder=False,\n",
    "                         eval_metric='mlogloss')\n",
    "\n",
    "print(\"fitting\")\n",
    "XGB1.fit(X_trainSVM, y_train)"
   ]
  },
  {
   "cell_type": "markdown",
   "id": "pediatric-thread",
   "metadata": {},
   "source": [
    "## Model 4 - XGBoost with Landmarks"
   ]
  },
  {
   "cell_type": "code",
   "execution_count": 6,
   "id": "composed-recruitment",
   "metadata": {},
   "outputs": [
    {
     "name": "stdout",
     "output_type": "stream",
     "text": [
      "fitting\n"
     ]
    },
    {
     "data": {
      "text/plain": [
       "XGBClassifier(base_score=0.5, booster='gbtree', colsample_bylevel=1,\n",
       "              colsample_bynode=1, colsample_bytree=1, eval_metric='mlogloss',\n",
       "              gamma=0, gpu_id=-1, importance_type='gain',\n",
       "              interaction_constraints='', learning_rate=0.300000012,\n",
       "              max_delta_step=0, max_depth=6, min_child_weight=1, missing=nan,\n",
       "              monotone_constraints='()', n_estimators=100, n_jobs=12,\n",
       "              num_class=7, num_parallel_tree=1, objective='multi:softprob',\n",
       "              random_state=0, reg_alpha=0, reg_lambda=1, scale_pos_weight=None,\n",
       "              subsample=1, tree_method='exact', use_label_encoder=False,\n",
       "              validate_parameters=1, verbosity=None)"
      ]
     },
     "execution_count": 6,
     "metadata": {},
     "output_type": "execute_result"
    }
   ],
   "source": [
    "XGB2 = XGBClassifier(objective='multi:softprob', \n",
    "                         num_class= len(emotions), \n",
    "                         use_label_encoder=False,\n",
    "                         eval_metric='mlogloss')\n",
    "\n",
    "print(\"fitting\")\n",
    "XGB2.fit(X_trainLAND, y_train)"
   ]
  },
  {
   "cell_type": "markdown",
   "id": "short-objective",
   "metadata": {},
   "source": [
    "## Model Predictions"
   ]
  },
  {
   "cell_type": "markdown",
   "id": "shared-official",
   "metadata": {},
   "source": [
    "#### Softvoting\n",
    "Here we take the probability distribution of the predictions and sum them over all predictions.  Then we take the argmax as the final predicted class."
   ]
  },
  {
   "cell_type": "code",
   "execution_count": 11,
   "id": "auburn-digit",
   "metadata": {},
   "outputs": [],
   "source": [
    "pred1 = SVM1.predict_proba(X_test_pca1)\n",
    "pred2 = SVM2.predict_proba(X_test_pca2)\n",
    "pred3 = XGB1.predict_proba(X_testSVM)\n",
    "pred4 = XGB2.predict_proba(X_testLAND)"
   ]
  },
  {
   "cell_type": "code",
   "execution_count": 13,
   "id": "historic-closer",
   "metadata": {},
   "outputs": [],
   "source": [
    "total = pred1 + pred2 + pred3 + pred4"
   ]
  },
  {
   "cell_type": "code",
   "execution_count": 14,
   "id": "conscious-statement",
   "metadata": {},
   "outputs": [],
   "source": [
    "final_pred = np.argmax(total, axis=1)"
   ]
  },
  {
   "cell_type": "code",
   "execution_count": 15,
   "id": "sweet-satisfaction",
   "metadata": {},
   "outputs": [
    {
     "name": "stdout",
     "output_type": "stream",
     "text": [
      "0.6093619392588465\n"
     ]
    }
   ],
   "source": [
    "from sklearn.metrics import accuracy_score\n",
    "\n",
    "score = accuracy_score(y_test, final_pred)\n",
    "print(score)"
   ]
  },
  {
   "cell_type": "markdown",
   "id": "static-cleaner",
   "metadata": {},
   "source": [
    "#### Hardvoting\n",
    "Here we take the majority vote from each models final prediction."
   ]
  },
  {
   "cell_type": "code",
   "execution_count": 17,
   "id": "olympic-platinum",
   "metadata": {},
   "outputs": [],
   "source": [
    "def most_frequent(List):\n",
    "    counter = 0\n",
    "    num = List[0]\n",
    "      \n",
    "    for i in List:\n",
    "        curr_frequency = List.count(i)\n",
    "        if(curr_frequency> counter):\n",
    "            counter = curr_frequency\n",
    "            num = i\n",
    "  \n",
    "    return num"
   ]
  },
  {
   "cell_type": "code",
   "execution_count": 16,
   "id": "broadband-drill",
   "metadata": {},
   "outputs": [],
   "source": [
    "pred1b = SVM1.predict(X_test_pca1)\n",
    "pred2b = SVM2.predict(X_test_pca2)\n",
    "pred3b = XGB1.predict(X_testSVM)\n",
    "pred4b = XGB2.predict(X_testLAND)"
   ]
  },
  {
   "cell_type": "code",
   "execution_count": 19,
   "id": "naked-sellers",
   "metadata": {},
   "outputs": [],
   "source": [
    "final_pred = []\n",
    "for i in range(len(X_testLAND)):\n",
    "    tmp = [pred1b[i], pred2b[i], pred3b[i], pred4b[i]]\n",
    "    final_pred.append(most_frequent(tmp))"
   ]
  },
  {
   "cell_type": "code",
   "execution_count": 20,
   "id": "configured-dress",
   "metadata": {},
   "outputs": [
    {
     "name": "stdout",
     "output_type": "stream",
     "text": [
      "0.6182780718863193\n"
     ]
    }
   ],
   "source": [
    "from sklearn.metrics import accuracy_score\n",
    "\n",
    "score = accuracy_score(y_test, final_pred)\n",
    "print(score)"
   ]
  }
 ],
 "metadata": {
  "kernelspec": {
   "display_name": "Python 3",
   "language": "python",
   "name": "python3"
  },
  "language_info": {
   "codemirror_mode": {
    "name": "ipython",
    "version": 3
   },
   "file_extension": ".py",
   "mimetype": "text/x-python",
   "name": "python",
   "nbconvert_exporter": "python",
   "pygments_lexer": "ipython3",
   "version": "3.8.5"
  }
 },
 "nbformat": 4,
 "nbformat_minor": 5
}
