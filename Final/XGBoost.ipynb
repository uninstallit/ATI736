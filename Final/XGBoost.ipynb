{
 "cells": [
  {
   "cell_type": "code",
   "execution_count": null,
   "id": "patent-lying",
   "metadata": {},
   "outputs": [],
   "source": []
  },
  {
   "cell_type": "code",
   "execution_count": 1,
   "id": "sustained-glance",
   "metadata": {},
   "outputs": [],
   "source": [
    "import pandas as pd\n",
    "\n",
    "# Read Metadata\n",
    "meta_df = pd.read_csv('/Users/brensikeg/Desktop/Final/archive/fer2013/fer2013.csv')\n",
    "\n",
    "emotions = ['Angry', 'Disgust', 'Fear', 'Happy', 'Sad', 'Surprise', 'Neutral']\n",
    "\n",
    "meta_df = meta_df.rename(columns={\"emotion\":\"label\",\"pixels\":\"image\"})\n",
    "meta_df['emotion'] = meta_df['label'].apply(lambda x: emotions[int(x)])\n",
    "meta_df = meta_df.drop(columns=['Usage'])"
   ]
  },
  {
   "cell_type": "code",
   "execution_count": 2,
   "id": "modified-quest",
   "metadata": {},
   "outputs": [],
   "source": [
    "import numpy as np\n",
    "\n",
    "meta_df[\"new_image\"] = meta_df[\"image\"].apply(lambda x: np.array(np.reshape(np.array(x.split(' ')).astype(int),(48,48))))\n",
    "meta_df[\"svm\"] = meta_df[\"image\"].apply(lambda x: np.array(np.reshape(np.array(x.split(' ')).astype(int),(1,2304))))\n",
    "meta_df = meta_df.drop(columns=['image'])"
   ]
  },
  {
   "cell_type": "code",
   "execution_count": 7,
   "id": "diverse-necessity",
   "metadata": {},
   "outputs": [],
   "source": [
    "from sklearn.model_selection import train_test_split\n",
    "\n",
    "X_train, X_test, y_train, y_test = train_test_split(np.array(meta_df[\"svm\"]), np.array(meta_df[\"label\"]), test_size=0.40, random_state=42)"
   ]
  },
  {
   "cell_type": "code",
   "execution_count": 8,
   "id": "featured-quality",
   "metadata": {},
   "outputs": [],
   "source": [
    "X_train = np.concatenate(X_train, axis=0)\n",
    "X_test = np.concatenate(X_test, axis=0)"
   ]
  },
  {
   "cell_type": "code",
   "execution_count": 9,
   "id": "billion-gothic",
   "metadata": {},
   "outputs": [
    {
     "name": "stdout",
     "output_type": "stream",
     "text": [
      "fitting\n",
      "[17:36:35] WARNING: /Users/travis/build/dmlc/xgboost/src/learner.cc:1061: Starting in XGBoost 1.3.0, the default evaluation metric used with the objective 'multi:softprob' was changed from 'merror' to 'mlogloss'. Explicitly set eval_metric if you'd like to restore the old behavior.\n",
      "scoring\n"
     ]
    },
    {
     "data": {
      "text/plain": [
       "0.4630442354580286"
      ]
     },
     "execution_count": 9,
     "metadata": {},
     "output_type": "execute_result"
    }
   ],
   "source": [
    "from xgboost import XGBClassifier\n",
    "\n",
    "xgbmodel = XGBClassifier(objective='multi:softprob', num_class= len(emotions), use_label_encoder=False)\n",
    "\n",
    "print(\"fitting\")\n",
    "xgbmodel.fit(X_train, y_train)\n",
    "\n",
    "print(\"scoring\")\n",
    "xgbmodel.score(X_test, y_test)"
   ]
  },
  {
   "cell_type": "code",
   "execution_count": null,
   "id": "combined-handbook",
   "metadata": {},
   "outputs": [],
   "source": []
  },
  {
   "cell_type": "code",
   "execution_count": null,
   "id": "talented-touch",
   "metadata": {},
   "outputs": [],
   "source": []
  },
  {
   "cell_type": "code",
   "execution_count": 6,
   "id": "significant-tennessee",
   "metadata": {},
   "outputs": [],
   "source": [
    "import dlib\n",
    "import cv2\n",
    "from imutils import face_utils\n",
    "\n",
    "#step1: read the image\n",
    "image = cv2.imread(\"/Users/brensikeg/Desktop/Final/test_image.jpeg\")\n",
    "\n",
    "#step2: converts to gray image\n",
    "gray = cv2.cvtColor(image, cv2.COLOR_BGR2GRAY)\n",
    "\n",
    "#step3: get HOG face detector and faces\n",
    "hogFaceDetector = dlib.get_frontal_face_detector()\n",
    "faces = hogFaceDetector(gray, 1)\n",
    "predictor = dlib.shape_predictor(\"/Users/brensikeg/Desktop/Final/shape_predictor_68_face_landmarks.dat\")\n",
    "\n",
    "#step4: loop through each face and draw a rect around it\n",
    "for (i, rect) in enumerate(faces):\n",
    "    x = rect.left()\n",
    "    y = rect.top()\n",
    "    w = rect.right() - x\n",
    "    h = rect.bottom() - y\n",
    "    #draw a rectangle\n",
    "    img = cv2.rectangle(image, (x, y), (x + w, y + h), (0, 255, 0), 2)\n",
    "    shape = predictor(gray, rect)\n",
    "    shape = face_utils.shape_to_np(shape)\n",
    "    \n",
    "    for (x, y) in shape:\n",
    "        cv2.circle(image, (x, y), 2, (0, 0, 255), -1)\n",
    "    \n",
    "#step5: display the resulted image\n",
    "cv2.imwrite('/Users/brensikeg/Desktop/Final/gottum.jpeg',img)\n",
    "cv2.destroyAllWindows()"
   ]
  },
  {
   "cell_type": "code",
   "execution_count": null,
   "id": "close-negotiation",
   "metadata": {},
   "outputs": [],
   "source": []
  },
  {
   "cell_type": "code",
   "execution_count": null,
   "id": "domestic-newspaper",
   "metadata": {},
   "outputs": [],
   "source": []
  }
 ],
 "metadata": {
  "kernelspec": {
   "display_name": "Python 3",
   "language": "python",
   "name": "python3"
  },
  "language_info": {
   "codemirror_mode": {
    "name": "ipython",
    "version": 3
   },
   "file_extension": ".py",
   "mimetype": "text/x-python",
   "name": "python",
   "nbconvert_exporter": "python",
   "pygments_lexer": "ipython3",
   "version": "3.8.5"
  }
 },
 "nbformat": 4,
 "nbformat_minor": 5
}
