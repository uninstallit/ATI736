{
 "cells": [
  {
   "cell_type": "markdown",
   "id": "damaged-doctor",
   "metadata": {},
   "source": [
    "## SVM Model Analysis"
   ]
  },
  {
   "cell_type": "markdown",
   "id": "explicit-cooking",
   "metadata": {},
   "source": [
    "### SVM with Pixels"
   ]
  },
  {
   "cell_type": "markdown",
   "id": "altered-tomato",
   "metadata": {},
   "source": [
    "#### PCA with RBF"
   ]
  },
  {
   "cell_type": "code",
   "execution_count": 1,
   "id": "embedded-injection",
   "metadata": {},
   "outputs": [],
   "source": [
    "import numpy as np\n",
    "\n",
    "with open(\"data/train_pixels.npy\", \"rb\") as f:\n",
    "    X_train = np.load(f)\n",
    "    \n",
    "with open(\"data/train_labels.npy\", \"rb\") as f:\n",
    "    y_train = np.load(f)\n",
    "    \n",
    "with open(\"data/test_pixels.npy\", \"rb\") as f:\n",
    "    X_test = np.load(f)\n",
    "    \n",
    "with open(\"data/test_labels.npy\", \"rb\") as f:\n",
    "    y_test = np.load(f)"
   ]
  },
  {
   "cell_type": "code",
   "execution_count": 2,
   "id": "interstate-chapel",
   "metadata": {},
   "outputs": [],
   "source": [
    "X_train = X_train.reshape(-1, 48*48)\n",
    "X_test = X_test.reshape(-1, 48*48)"
   ]
  },
  {
   "cell_type": "code",
   "execution_count": 3,
   "id": "interracial-pressure",
   "metadata": {},
   "outputs": [
    {
     "name": "stdout",
     "output_type": "stream",
     "text": [
      "PCA Comp: 10 Acc: 0.2925606018389523\n",
      "PCA Comp: 20 Acc: 0.40679855112844804\n",
      "PCA Comp: 30 Acc: 0.4742268041237113\n",
      "PCA Comp: 40 Acc: 0.5032042351629981\n",
      "PCA Comp: 50 Acc: 0.5210365004179437\n",
      "PCA Comp: 60 Acc: 0.5310671496238507\n",
      "PCA Comp: 70 Acc: 0.5436054611312343\n",
      "PCA Comp: 80 Acc: 0.5444413485650599\n",
      "PCA Comp: 90 Acc: 0.5466703817219282\n",
      "PCA Comp: 100 Acc: 0.5466703817219282\n",
      "PCA Comp: 110 Acc: 0.5550292560601839\n",
      "PCA Comp: 120 Acc: 0.550849818891056\n",
      "PCA Comp: 130 Acc: 0.5469490108665367\n",
      "PCA Comp: 140 Acc: 0.5486207857341878\n",
      "PCA Comp: 150 Acc: 0.5472276400111452\n",
      "PCA Comp: 160 Acc: 0.5486207857341878\n",
      "PCA Comp: 170 Acc: 0.5458344942881025\n",
      "PCA Comp: 180 Acc: 0.5416550571189747\n",
      "PCA Comp: 190 Acc: 0.5399832822513235\n"
     ]
    }
   ],
   "source": [
    "from sklearn.svm import SVC\n",
    "from sklearn.decomposition import PCA as RandomizedPCA\n",
    "from sklearn.metrics import accuracy_score\n",
    "\n",
    "scores = []\n",
    "\n",
    "nrange = range(10,200,10)\n",
    "\n",
    "for n_components in nrange:\n",
    "    pca = RandomizedPCA(n_components=n_components, whiten=True, random_state=42).fit(X_train)\n",
    "    \n",
    "    X_train_pca = pca.transform(X_train)\n",
    "    X_test_pca = pca.transform(X_test)\n",
    "    \n",
    "    clf = SVC(kernel='rbf', class_weight='balanced')\n",
    "    clf = clf.fit(X_train_pca, y_train)\n",
    "    \n",
    "    y_pred = clf.predict(X_test_pca)\n",
    "    score = accuracy_score(y_test, y_pred)\n",
    "    print('PCA Comp:', n_components, 'Acc:', score)\n",
    "    \n",
    "    scores.append(score)"
   ]
  },
  {
   "cell_type": "code",
   "execution_count": 6,
   "id": "white-chicken",
   "metadata": {},
   "outputs": [
    {
     "data": {
      "text/plain": [
       "Text(0, 0.5, 'Accuracy')"
      ]
     },
     "execution_count": 6,
     "metadata": {},
     "output_type": "execute_result"
    },
    {
     "data": {
      "image/png": "[encoded data removed]",
      "text/plain": [
       "<Figure size 432x288 with 1 Axes>"
      ]
     },
     "metadata": {
      "needs_background": "light"
     },
     "output_type": "display_data"
    }
   ],
   "source": [
    "%matplotlib inline\n",
    "import matplotlib.pyplot as plt\n",
    "\n",
    "plt.plot(nrange, scores)\n",
    "plt.title('PCA using RBF Kernal')\n",
    "plt.xlabel('Number of PCA Components')\n",
    "plt.ylabel('Accuracy')"
   ]
  },
  {
   "cell_type": "markdown",
   "id": "broad-argentina",
   "metadata": {},
   "source": [
    "#### PCA with Linear"
   ]
  },
  {
   "cell_type": "code",
   "execution_count": null,
   "id": "needed-salmon",
   "metadata": {},
   "outputs": [
    {
     "name": "stdout",
     "output_type": "stream",
     "text": [
      "PCA Comp: 10 Acc: 0.23014767344664253\n",
      "PCA Comp: 20 Acc: 0.2908888269713012\n",
      "PCA Comp: 30 Acc: 0.32766787405962666\n",
      "PCA Comp: 40 Acc: 0.3382557815547506\n",
      "PCA Comp: 50 Acc: 0.3349122318194483\n",
      "PCA Comp: 60 Acc: 0.34354973530231264\n",
      "PCA Comp: 70 Acc: 0.35107272220674285\n",
      "PCA Comp: 80 Acc: 0.35218723878517694\n",
      "PCA Comp: 90 Acc: 0.3499582056283087\n",
      "PCA Comp: 100 Acc: 0.347450543326832\n",
      "PCA Comp: 110 Acc: 0.352744497074394\n",
      "PCA Comp: 120 Acc: 0.35246586792978546\n",
      "PCA Comp: 130 Acc: 0.3563666759543048\n",
      "PCA Comp: 140 Acc: 0.35525215937587074\n",
      "PCA Comp: 150 Acc: 0.35803845082195596\n",
      "PCA Comp: 160 Acc: 0.3572025633881304\n",
      "PCA Comp: 170 Acc: 0.3619392588464753\n",
      "PCA Comp: 180 Acc: 0.3605461131234327\n",
      "PCA Comp: 190 Acc: 0.36416829200334355\n"
     ]
    }
   ],
   "source": [
    "from sklearn.svm import SVC\n",
    "from sklearn.decomposition import PCA as RandomizedPCA\n",
    "from sklearn.metrics import accuracy_score\n",
    "\n",
    "scores = []\n",
    "\n",
    "nrange = range(10,200,10)\n",
    "\n",
    "for n_components in nrange:\n",
    "    pca = RandomizedPCA(n_components=n_components, whiten=True, random_state=42).fit(X_train)\n",
    "    \n",
    "    X_train_pca = pca.transform(X_train)\n",
    "    X_test_pca = pca.transform(X_test)\n",
    "    \n",
    "    clf = SVC(kernel='linear', class_weight='balanced')\n",
    "    clf = clf.fit(X_train_pca, y_train)\n",
    "    \n",
    "    y_pred = clf.predict(X_test_pca)\n",
    "    score = accuracy_score(y_test, y_pred)\n",
    "    print('PCA Comp:', n_components, 'Acc:', score)\n",
    "    \n",
    "    scores.append(score)"
   ]
  },
  {
   "cell_type": "code",
   "execution_count": null,
   "id": "differential-lingerie",
   "metadata": {},
   "outputs": [
    {
     "data": {
      "text/plain": [
       "Text(0, 0.5, 'Accuracy')"
      ]
     },
     "execution_count": 8,
     "metadata": {},
     "output_type": "execute_result"
    },
    {
     "data": {
      "image/png": "[encoded data removed]",
      "text/plain": [
       "<Figure size 432x288 with 1 Axes>"
      ]
     },
     "metadata": {
      "needs_background": "light"
     },
     "output_type": "display_data"
    }
   ],
   "source": [
    "%matplotlib inline\n",
    "import matplotlib.pyplot as plt\n",
    "\n",
    "plt.plot(nrange, scores)\n",
    "plt.title('PCA using Linear Kernal')\n",
    "plt.xlabel('Number of PCA Components')\n",
    "plt.ylabel('Accuracy')"
   ]
  },
  {
   "cell_type": "markdown",
   "id": "usual-average",
   "metadata": {},
   "source": [
    "### SVM Using Landmarks"
   ]
  },
  {
   "cell_type": "markdown",
   "id": "intense-comparative",
   "metadata": {},
   "source": [
    "#### PCA with RBF"
   ]
  },
  {
   "cell_type": "code",
   "execution_count": null,
   "id": "cloudy-revolution",
   "metadata": {},
   "outputs": [],
   "source": [
    "import numpy as np\n",
    "\n",
    "with open(\"data/train_landmarks.npy\", \"rb\") as f:\n",
    "    X_train = np.load(f)\n",
    "    \n",
    "with open(\"data/train_labels.npy\", \"rb\") as f:\n",
    "    y_train = np.load(f)\n",
    "    \n",
    "with open(\"data/test_landmarks.npy\", \"rb\") as f:\n",
    "    X_test = np.load(f)\n",
    "    \n",
    "with open(\"data/test_labels.npy\", \"rb\") as f:\n",
    "    y_test = np.load(f)"
   ]
  },
  {
   "cell_type": "code",
   "execution_count": 2,
   "id": "placed-couple",
   "metadata": {},
   "outputs": [
    {
     "name": "stdout",
     "output_type": "stream",
     "text": [
      "PCA Comp: 10 Acc: 0.42741710782947895\n",
      "PCA Comp: 20 Acc: 0.4898300362217888\n",
      "PCA Comp: 30 Acc: 0.5210365004179437\n",
      "PCA Comp: 40 Acc: 0.5280022290331569\n",
      "PCA Comp: 50 Acc: 0.540261911395932\n",
      "PCA Comp: 60 Acc: 0.5449986068542769\n",
      "PCA Comp: 70 Acc: 0.5419336862635832\n",
      "PCA Comp: 80 Acc: 0.5475062691557537\n",
      "PCA Comp: 90 Acc: 0.5469490108665367\n",
      "PCA Comp: 100 Acc: 0.5427695736974087\n",
      "PCA Comp: 110 Acc: 0.5449986068542769\n",
      "PCA Comp: 120 Acc: 0.5486207857341878\n",
      "PCA Comp: 130 Acc: 0.5491780440234049\n",
      "PCA Comp: 140 Acc: 0.5458344942881025\n",
      "PCA Comp: 150 Acc: 0.5480635274449708\n",
      "PCA Comp: 160 Acc: 0.5388687656728894\n",
      "PCA Comp: 170 Acc: 0.5377542490944552\n",
      "PCA Comp: 180 Acc: 0.5408191696851491\n",
      "PCA Comp: 190 Acc: 0.539704653106715\n"
     ]
    }
   ],
   "source": [
    "from sklearn.svm import SVC\n",
    "from sklearn.decomposition import PCA as RandomizedPCA\n",
    "from sklearn.metrics import accuracy_score\n",
    "\n",
    "scores = []\n",
    "\n",
    "nrange = range(10,200,10)\n",
    "\n",
    "for n_components in nrange:\n",
    "    pca = RandomizedPCA(n_components=n_components, whiten=True, random_state=42).fit(X_train)\n",
    "    \n",
    "    X_train_pca = pca.transform(X_train)\n",
    "    X_test_pca = pca.transform(X_test)\n",
    "    \n",
    "    clf = SVC(kernel='rbf', class_weight='balanced')\n",
    "    clf = clf.fit(X_train_pca, y_train)\n",
    "    \n",
    "    y_pred = clf.predict(X_test_pca)\n",
    "    score = accuracy_score(y_test, y_pred)\n",
    "    print('PCA Comp:', n_components, 'Acc:', score)\n",
    "    \n",
    "    scores.append(score)"
   ]
  },
  {
   "cell_type": "code",
   "execution_count": 3,
   "id": "occasional-sarah",
   "metadata": {},
   "outputs": [
    {
     "data": {
      "text/plain": [
       "Text(0, 0.5, 'Accuracy')"
      ]
     },
     "execution_count": 3,
     "metadata": {},
     "output_type": "execute_result"
    },
    {
     "data": {
      "image/png": "[encoded data removed]",
      "text/plain": [
       "<Figure size 432x288 with 1 Axes>"
      ]
     },
     "metadata": {
      "needs_background": "light"
     },
     "output_type": "display_data"
    }
   ],
   "source": [
    "%matplotlib inline\n",
    "import matplotlib.pyplot as plt\n",
    "\n",
    "plt.plot(nrange, scores)\n",
    "plt.title('Landmarks - PCA using RBF Kernal')\n",
    "plt.xlabel('Number of PCA Components')\n",
    "plt.ylabel('Accuracy')"
   ]
  },
  {
   "cell_type": "markdown",
   "id": "brown-texture",
   "metadata": {},
   "source": [
    "#### Undersampling"
   ]
  },
  {
   "cell_type": "code",
   "execution_count": 68,
   "id": "binding-description",
   "metadata": {},
   "outputs": [],
   "source": [
    "import numpy as np\n",
    "\n",
    "with open(\"data/train_pixels.npy\", \"rb\") as f:\n",
    "    X_train = np.load(f)\n",
    "    \n",
    "with open(\"data/train_labels.npy\", \"rb\") as f:\n",
    "    y_train = np.load(f)\n",
    "    \n",
    "with open(\"data/test_pixels.npy\", \"rb\") as f:\n",
    "    X_test = np.load(f)\n",
    "    \n",
    "with open(\"data/test_labels.npy\", \"rb\") as f:\n",
    "    y_test = np.load(f)"
   ]
  },
  {
   "cell_type": "code",
   "execution_count": 69,
   "id": "unique-covering",
   "metadata": {},
   "outputs": [],
   "source": [
    "X_train = X_train.reshape(-1, 48*48)\n",
    "X_test = X_test.reshape(-1, 48*48)"
   ]
  },
  {
   "cell_type": "code",
   "execution_count": 62,
   "id": "enclosed-ireland",
   "metadata": {},
   "outputs": [],
   "source": [
    "# Undersample \n",
    "from imblearn.under_sampling import OneSidedSelection\n",
    "\n",
    "import matplotlib.pyplot as plt\n",
    "%matplotlib inline\n",
    "\n",
    "# define the undersampling method\n",
    "undersample = OneSidedSelection(n_neighbors=1, n_seeds_S=200)\n",
    "\n",
    "# transform the dataset\n",
    "X, y = undersample.fit_resample(X_train, y_train)"
   ]
  },
  {
   "cell_type": "code",
   "execution_count": 63,
   "id": "increasing-candle",
   "metadata": {},
   "outputs": [
    {
     "data": {
      "image/png": "[encoded data removed]",
      "text/plain": [
       "<Figure size 432x288 with 1 Axes>"
      ]
     },
     "metadata": {},
     "output_type": "display_data"
    }
   ],
   "source": [
    "# summarize the new class distribution\n",
    "plt.style.use('ggplot')\n",
    "\n",
    "plt.hist(y_train, bins='auto')\n",
    "plt.xlabel(\"Emotion\")\n",
    "plt.ylabel(\"Image Count\")\n",
    "plt.title(\"Training Data Distribution\")\n",
    "\n",
    "plt.show()"
   ]
  },
  {
   "cell_type": "code",
   "execution_count": 64,
   "id": "manufactured-smooth",
   "metadata": {},
   "outputs": [
    {
     "data": {
      "image/png": "[encoded data removed]",
      "text/plain": [
       "<Figure size 432x288 with 1 Axes>"
      ]
     },
     "metadata": {},
     "output_type": "display_data"
    }
   ],
   "source": [
    "# summarize the new class distribution\n",
    "plt.style.use('ggplot')\n",
    "\n",
    "plt.hist(y, bins='auto')\n",
    "plt.xlabel(\"Emotion\")\n",
    "plt.ylabel(\"New Image Count\")\n",
    "plt.title(\"Undersampled Distribution\")\n",
    "\n",
    "plt.show()"
   ]
  },
  {
   "cell_type": "markdown",
   "id": "checked-cyprus",
   "metadata": {},
   "source": [
    "#### Oversampling"
   ]
  },
  {
   "cell_type": "code",
   "execution_count": 70,
   "id": "numerical-screen",
   "metadata": {},
   "outputs": [],
   "source": [
    "# Oversample\n",
    "from imblearn.over_sampling import SMOTE\n",
    "\n",
    "oversample = SMOTE()\n",
    "X, y = oversample.fit_resample(X, y)"
   ]
  },
  {
   "cell_type": "code",
   "execution_count": 71,
   "id": "oriental-secondary",
   "metadata": {},
   "outputs": [
    {
     "data": {
      "image/png": "[encoded data removed]",
      "text/plain": [
       "<Figure size 432x288 with 1 Axes>"
      ]
     },
     "metadata": {},
     "output_type": "display_data"
    }
   ],
   "source": [
    "# summarize the new class distribution\n",
    "plt.style.use('ggplot')\n",
    "\n",
    "plt.hist(y, bins='auto')\n",
    "plt.xlabel(\"Emotion\")\n",
    "plt.ylabel(\"New Image Count\")\n",
    "plt.title(\"Oversampled Distribution\")\n",
    "\n",
    "plt.show()"
   ]
  },
  {
   "cell_type": "code",
   "execution_count": 72,
   "id": "subject-while",
   "metadata": {},
   "outputs": [],
   "source": [
    "from sklearn.svm import SVC\n",
    "from sklearn.decomposition import PCA as RandomizedPCA\n",
    "\n",
    "n_components = 110\n",
    "pca = RandomizedPCA(n_components=n_components, whiten=True, random_state=42).fit(X)\n",
    "\n",
    "X_train_pca = pca.transform(X)\n",
    "X_test_pca = pca.transform(X_test)\n",
    "\n",
    "clf = SVC(kernel='rbf', class_weight='balanced')\n",
    "clf = clf.fit(X_train_pca, y)"
   ]
  },
  {
   "cell_type": "code",
   "execution_count": 73,
   "id": "meaning-patient",
   "metadata": {},
   "outputs": [
    {
     "name": "stdout",
     "output_type": "stream",
     "text": [
      "0.5254945667316802\n"
     ]
    }
   ],
   "source": [
    "from sklearn.metrics import accuracy_score\n",
    "\n",
    "y_pred = clf.predict(X_test_pca)\n",
    "score = accuracy_score(y_test, y_pred)\n",
    "print(score)"
   ]
  },
  {
   "cell_type": "code",
   "execution_count": 74,
   "id": "annual-conviction",
   "metadata": {},
   "outputs": [
    {
     "name": "stdout",
     "output_type": "stream",
     "text": [
      "              precision    recall  f1-score   support\n",
      "\n",
      "       Angry       0.39      0.36      0.38       385\n",
      "     Disgust       0.86      0.34      0.49        35\n",
      "        Fear       0.52      0.21      0.30       119\n",
      "       Happy       0.64      0.63      0.63       936\n",
      "         Sad       0.35      0.30      0.32       490\n",
      "    Surprise       0.66      0.52      0.58       433\n",
      "     Neutral       0.50      0.63      0.56      1191\n",
      "\n",
      "    accuracy                           0.53      3589\n",
      "   macro avg       0.56      0.43      0.47      3589\n",
      "weighted avg       0.53      0.53      0.52      3589\n",
      "\n"
     ]
    }
   ],
   "source": [
    "from sklearn.metrics import classification_report\n",
    "emotions = ['Angry', 'Disgust', 'Fear', 'Happy', 'Sad', 'Surprise', 'Neutral']\n",
    "print(classification_report(y_test, y_pred, target_names=emotions))"
   ]
  },
  {
   "cell_type": "markdown",
   "id": "curious-gilbert",
   "metadata": {},
   "source": [
    "Accuracy is not improved by doing any of the following:\n",
    "- Oversampling and Undersampling\n",
    "- Only Oversampling\n",
    "- Only Undersampling\n",
    "\n",
    "We will not use these methods in our training."
   ]
  }
 ],
 "metadata": {
  "kernelspec": {
   "display_name": "Python 3",
   "language": "python",
   "name": "python3"
  },
  "language_info": {
   "codemirror_mode": {
    "name": "ipython",
    "version": 3
   },
   "file_extension": ".py",
   "mimetype": "text/x-python",
   "name": "python",
   "nbconvert_exporter": "python",
   "pygments_lexer": "ipython3",
   "version": "3.8.5"
  }
 },
 "nbformat": 4,
 "nbformat_minor": 5
}
