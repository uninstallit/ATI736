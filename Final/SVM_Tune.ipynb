{
 "cells": [
  {
   "cell_type": "markdown",
   "id": "conceptual-puppy",
   "metadata": {},
   "source": [
    "# SVM Model Analysis"
   ]
  },
  {
   "cell_type": "markdown",
   "id": "incorporated-chassis",
   "metadata": {},
   "source": [
    "## SVM with Pixels"
   ]
  },
  {
   "cell_type": "markdown",
   "id": "blessed-roulette",
   "metadata": {},
   "source": [
    "### Load Data and Libraries"
   ]
  },
  {
   "cell_type": "code",
   "execution_count": 1,
   "id": "useful-professor",
   "metadata": {},
   "outputs": [],
   "source": [
    "import numpy as np\n",
    "from sklearn.svm import SVC\n",
    "from sklearn.decomposition import PCA as RandomizedPCA\n",
    "from sklearn.metrics import accuracy_score\n",
    "from imblearn.under_sampling import OneSidedSelection\n",
    "from imblearn.over_sampling import SMOTE\n",
    "from sklearn.metrics import classification_report\n",
    "import matplotlib.pyplot as plt\n",
    "\n",
    "%matplotlib inline"
   ]
  },
  {
   "cell_type": "code",
   "execution_count": 2,
   "id": "chemical-inspiration",
   "metadata": {},
   "outputs": [],
   "source": [
    "# Training Data\n",
    "X_train = np.load(\"data/train_pixels.npy\") \n",
    "X_trainLAND = np.load(\"data/train_landmarks.npy\")\n",
    "y_train = np.load(\"data/train_labels.npy\")\n",
    "    \n",
    "# Public Test Data - Used to Validate Training\n",
    "X_test = np.load(\"data/eval_pixels.npy\")\n",
    "X_testLAND = np.load(\"data/eval_landmarks.npy\")\n",
    "y_test = np.load(\"data/eval_labels.npy\")\n",
    "\n",
    "# Emotions\n",
    "emotions = ['Angry', 'Disgust', 'Fear', 'Happy', 'Sad', 'Surprise', 'Neutral']"
   ]
  },
  {
   "cell_type": "code",
   "execution_count": 3,
   "id": "decent-recycling",
   "metadata": {},
   "outputs": [],
   "source": [
    "X_train = X_train.reshape(-1, 48*48)\n",
    "X_test = X_test.reshape(-1, 48*48)"
   ]
  },
  {
   "cell_type": "markdown",
   "id": "declared-warner",
   "metadata": {},
   "source": [
    "### PCA with RBF"
   ]
  },
  {
   "cell_type": "code",
   "execution_count": 4,
   "id": "split-kazakhstan",
   "metadata": {},
   "outputs": [
    {
     "name": "stdout",
     "output_type": "stream",
     "text": [
      "PCA Comp: 10 Acc: 0.29339648927277795\n",
      "PCA Comp: 20 Acc: 0.40373363053775424\n",
      "PCA Comp: 30 Acc: 0.48230704931735857\n",
      "PCA Comp: 40 Acc: 0.5101699637782112\n",
      "PCA Comp: 50 Acc: 0.5274449707439398\n",
      "PCA Comp: 60 Acc: 0.5280022290331569\n",
      "PCA Comp: 70 Acc: 0.5371969908052382\n",
      "PCA Comp: 80 Acc: 0.545555865143494\n",
      "PCA Comp: 90 Acc: 0.5449986068542769\n",
      "PCA Comp: 100 Acc: 0.5553078852047925\n",
      "PCA Comp: 110 Acc: 0.5564224017832266\n",
      "PCA Comp: 120 Acc: 0.5500139314572304\n",
      "PCA Comp: 130 Acc: 0.5466703817219282\n",
      "PCA Comp: 140 Acc: 0.5486207857341878\n",
      "PCA Comp: 150 Acc: 0.5447199777096684\n",
      "PCA Comp: 160 Acc: 0.5472276400111452\n",
      "PCA Comp: 170 Acc: 0.539704653106715\n",
      "PCA Comp: 180 Acc: 0.5422123154081917\n",
      "PCA Comp: 190 Acc: 0.5383115073836723\n"
     ]
    }
   ],
   "source": [
    "scores = []\n",
    "\n",
    "nrange = range(10,200,10)\n",
    "\n",
    "for n_components in nrange:\n",
    "    pca = RandomizedPCA(n_components=n_components, whiten=True, random_state=42).fit(X_train)\n",
    "    \n",
    "    X_train_pca = pca.transform(X_train)\n",
    "    X_test_pca = pca.transform(X_test)\n",
    "    \n",
    "    clf = SVC(kernel='rbf', class_weight='balanced')\n",
    "    clf = clf.fit(X_train_pca, y_train)\n",
    "    \n",
    "    y_pred = clf.predict(X_test_pca)\n",
    "    score = accuracy_score(y_test, y_pred)\n",
    "    print('PCA Comp:', n_components, 'Acc:', score)\n",
    "    \n",
    "    scores.append(score)"
   ]
  },
  {
   "cell_type": "code",
   "execution_count": 5,
   "id": "fresh-hello",
   "metadata": {},
   "outputs": [
    {
     "data": {
      "text/plain": [
       "Text(0, 0.5, 'Accuracy')"
      ]
     },
     "execution_count": 5,
     "metadata": {},
     "output_type": "execute_result"
    },
    {
     "data": {
      "image/png": "[encoded data removed]",
      "text/plain": [
       "<Figure size 432x288 with 1 Axes>"
      ]
     },
     "metadata": {
      "needs_background": "light"
     },
     "output_type": "display_data"
    }
   ],
   "source": [
    "plt.plot(nrange, scores)\n",
    "plt.title('PCA using RBF Kernal')\n",
    "plt.xlabel('Number of PCA Components')\n",
    "plt.ylabel('Accuracy')"
   ]
  },
  {
   "cell_type": "markdown",
   "id": "opposite-escape",
   "metadata": {},
   "source": [
    "### PCA with Linear"
   ]
  },
  {
   "cell_type": "code",
   "execution_count": null,
   "id": "excellent-legislation",
   "metadata": {},
   "outputs": [
    {
     "name": "stdout",
     "output_type": "stream",
     "text": [
      "PCA Comp: 10 Acc: 0.224575090554472\n",
      "PCA Comp: 20 Acc: 0.2881025355252159\n",
      "PCA Comp: 30 Acc: 0.33184731122875455\n",
      "PCA Comp: 40 Acc: 0.34354973530231264\n",
      "PCA Comp: 50 Acc: 0.3496795764837002\n",
      "PCA Comp: 60 Acc: 0.3560880468096963\n",
      "PCA Comp: 70 Acc: 0.3544162719420451\n",
      "PCA Comp: 80 Acc: 0.35692393424352187\n",
      "PCA Comp: 90 Acc: 0.36110337141264975\n",
      "PCA Comp: 100 Acc: 0.36388966285873503\n",
      "PCA Comp: 110 Acc: 0.3616606297018668\n",
      "PCA Comp: 120 Acc: 0.3677904708832544\n",
      "PCA Comp: 130 Acc: 0.36388966285873503\n",
      "PCA Comp: 140 Acc: 0.3594315965449986\n",
      "PCA Comp: 150 Acc: 0.3619392588464753\n",
      "PCA Comp: 160 Acc: 0.36834772917247144\n",
      "PCA Comp: 170 Acc: 0.3675118417386459\n",
      "PCA Comp: 180 Acc: 0.3616606297018668\n",
      "PCA Comp: 190 Acc: 0.3594315965449986\n"
     ]
    }
   ],
   "source": [
    "scores = []\n",
    "\n",
    "nrange = range(10,200,10)\n",
    "\n",
    "for n_components in nrange:\n",
    "    pca = RandomizedPCA(n_components=n_components, whiten=True, random_state=42).fit(X_train)\n",
    "    \n",
    "    X_train_pca = pca.transform(X_train)\n",
    "    X_test_pca = pca.transform(X_test)\n",
    "    \n",
    "    clf = SVC(kernel='linear', class_weight='balanced')\n",
    "    clf = clf.fit(X_train_pca, y_train)\n",
    "    \n",
    "    y_pred = clf.predict(X_test_pca)\n",
    "    score = accuracy_score(y_test, y_pred)\n",
    "    print('PCA Comp:', n_components, 'Acc:', score)\n",
    "    \n",
    "    scores.append(score)"
   ]
  },
  {
   "cell_type": "code",
   "execution_count": null,
   "id": "subtle-division",
   "metadata": {},
   "outputs": [
    {
     "data": {
      "text/plain": [
       "Text(0, 0.5, 'Accuracy')"
      ]
     },
     "execution_count": 7,
     "metadata": {},
     "output_type": "execute_result"
    },
    {
     "data": {
      "image/png": "[encoded data removed]",
      "text/plain": [
       "<Figure size 432x288 with 1 Axes>"
      ]
     },
     "metadata": {
      "needs_background": "light"
     },
     "output_type": "display_data"
    }
   ],
   "source": [
    "plt.plot(nrange, scores)\n",
    "plt.title('PCA using Linear Kernal')\n",
    "plt.xlabel('Number of PCA Components')\n",
    "plt.ylabel('Accuracy')"
   ]
  },
  {
   "cell_type": "markdown",
   "id": "english-hardwood",
   "metadata": {},
   "source": [
    "## SVM Using Landmarks"
   ]
  },
  {
   "cell_type": "markdown",
   "id": "understood-positive",
   "metadata": {},
   "source": [
    "### PCA with RBF"
   ]
  },
  {
   "cell_type": "code",
   "execution_count": null,
   "id": "elder-maria",
   "metadata": {},
   "outputs": [
    {
     "name": "stdout",
     "output_type": "stream",
     "text": [
      "PCA Comp: 10 Acc: 0.43772638617999443\n",
      "PCA Comp: 20 Acc: 0.5032042351629981\n",
      "PCA Comp: 30 Acc: 0.5257731958762887\n",
      "PCA Comp: 40 Acc: 0.5466703817219282\n",
      "PCA Comp: 50 Acc: 0.5541933686263583\n",
      "PCA Comp: 60 Acc: 0.5600445806631373\n",
      "PCA Comp: 70 Acc: 0.5572582892170521\n",
      "PCA Comp: 80 Acc: 0.5631095012538312\n",
      "PCA Comp: 90 Acc: 0.5589300640847032\n",
      "PCA Comp: 100 Acc: 0.5583728057954862\n",
      "PCA Comp: 110 Acc: 0.5575369183616606\n",
      "PCA Comp: 120 Acc: 0.56143772638618\n",
      "PCA Comp: 130 Acc: 0.5564224017832266\n",
      "PCA Comp: 140 Acc: 0.5547506269155754\n",
      "PCA Comp: 150 Acc: 0.556143772638618\n",
      "PCA Comp: 160 Acc: 0.5522429646140986\n",
      "PCA Comp: 170 Acc: 0.5528002229033157\n",
      "PCA Comp: 180 Acc: 0.5511284480356645\n",
      "PCA Comp: 190 Acc: 0.5458344942881025\n"
     ]
    }
   ],
   "source": [
    "scores = []\n",
    "\n",
    "nrange = range(10,200,10)\n",
    "\n",
    "for n_components in nrange:\n",
    "    pca = RandomizedPCA(n_components=n_components, whiten=True, random_state=42).fit(X_trainLAND)\n",
    "    \n",
    "    X_train_pca = pca.transform(X_trainLAND)\n",
    "    X_test_pca = pca.transform(X_testLAND)\n",
    "    \n",
    "    clf = SVC(kernel='rbf', class_weight='balanced')\n",
    "    clf = clf.fit(X_train_pca, y_train)\n",
    "    \n",
    "    y_pred = clf.predict(X_test_pca)\n",
    "    score = accuracy_score(y_test, y_pred)\n",
    "    print('PCA Comp:', n_components, 'Acc:', score)\n",
    "    \n",
    "    scores.append(score)"
   ]
  },
  {
   "cell_type": "code",
   "execution_count": null,
   "id": "flexible-feature",
   "metadata": {},
   "outputs": [
    {
     "data": {
      "text/plain": [
       "Text(0, 0.5, 'Accuracy')"
      ]
     },
     "execution_count": 9,
     "metadata": {},
     "output_type": "execute_result"
    },
    {
     "data": {
      "image/png": "[encoded data removed]",
      "text/plain": [
       "<Figure size 432x288 with 1 Axes>"
      ]
     },
     "metadata": {
      "needs_background": "light"
     },
     "output_type": "display_data"
    }
   ],
   "source": [
    "plt.plot(nrange, scores)\n",
    "plt.title('Landmarks - PCA using RBF Kernal')\n",
    "plt.xlabel('Number of PCA Components')\n",
    "plt.ylabel('Accuracy')"
   ]
  },
  {
   "cell_type": "markdown",
   "id": "intelligent-fight",
   "metadata": {},
   "source": [
    "### Undersampling"
   ]
  },
  {
   "cell_type": "code",
   "execution_count": null,
   "id": "severe-chest",
   "metadata": {},
   "outputs": [],
   "source": [
    "# Undersample \n",
    "undersample = OneSidedSelection(n_neighbors=1, n_seeds_S=200)\n",
    "\n",
    "# transform the dataset\n",
    "X, y = undersample.fit_resample(X_train, y_train)"
   ]
  },
  {
   "cell_type": "code",
   "execution_count": null,
   "id": "honey-jungle",
   "metadata": {},
   "outputs": [
    {
     "data": {
      "image/png": "[encoded data removed]",
      "text/plain": [
       "<Figure size 432x288 with 1 Axes>"
      ]
     },
     "metadata": {},
     "output_type": "display_data"
    }
   ],
   "source": [
    "# summarize the new class distribution\n",
    "plt.style.use('ggplot')\n",
    "\n",
    "plt.hist(y_train, bins='auto')\n",
    "plt.xlabel(\"Emotion\")\n",
    "plt.ylabel(\"Image Count\")\n",
    "plt.title(\"Training Data Distribution\")\n",
    "\n",
    "plt.show()"
   ]
  },
  {
   "cell_type": "code",
   "execution_count": null,
   "id": "bulgarian-african",
   "metadata": {},
   "outputs": [
    {
     "data": {
      "image/png": "[encoded data removed]",
      "text/plain": [
       "<Figure size 432x288 with 1 Axes>"
      ]
     },
     "metadata": {},
     "output_type": "display_data"
    }
   ],
   "source": [
    "# summarize the new class distribution\n",
    "plt.style.use('ggplot')\n",
    "\n",
    "plt.hist(y, bins='auto')\n",
    "plt.xlabel(\"Emotion\")\n",
    "plt.ylabel(\"New Image Count\")\n",
    "plt.title(\"Undersampled Distribution\")\n",
    "\n",
    "plt.show()"
   ]
  },
  {
   "cell_type": "markdown",
   "id": "centered-illustration",
   "metadata": {},
   "source": [
    "### Oversampling"
   ]
  },
  {
   "cell_type": "code",
   "execution_count": null,
   "id": "exterior-berlin",
   "metadata": {},
   "outputs": [],
   "source": [
    "# Oversample\n",
    "oversample = SMOTE()\n",
    "X, y = oversample.fit_resample(X, y)"
   ]
  },
  {
   "cell_type": "code",
   "execution_count": null,
   "id": "undefined-ratio",
   "metadata": {},
   "outputs": [
    {
     "data": {
      "image/png": "[encoded data removed]",
      "text/plain": [
       "<Figure size 432x288 with 1 Axes>"
      ]
     },
     "metadata": {},
     "output_type": "display_data"
    }
   ],
   "source": [
    "# summarize the new class distribution\n",
    "plt.style.use('ggplot')\n",
    "\n",
    "plt.hist(y, bins='auto')\n",
    "plt.xlabel(\"Emotion\")\n",
    "plt.ylabel(\"New Image Count\")\n",
    "plt.title(\"Oversampled Distribution\")\n",
    "\n",
    "plt.show()"
   ]
  },
  {
   "cell_type": "code",
   "execution_count": null,
   "id": "veterinary-ceramic",
   "metadata": {},
   "outputs": [],
   "source": [
    "n_components = 110\n",
    "pca = RandomizedPCA(n_components=n_components, whiten=True, random_state=42).fit(X)\n",
    "\n",
    "X_train_pca = pca.transform(X)\n",
    "X_test_pca = pca.transform(X_test)\n",
    "\n",
    "clf = SVC(kernel='rbf', class_weight='balanced')\n",
    "clf = clf.fit(X_train_pca, y)"
   ]
  },
  {
   "cell_type": "code",
   "execution_count": null,
   "id": "floppy-dispatch",
   "metadata": {},
   "outputs": [
    {
     "name": "stdout",
     "output_type": "stream",
     "text": [
      "0.5188074672610755\n"
     ]
    }
   ],
   "source": [
    "y_pred = clf.predict(X_test_pca)\n",
    "score = accuracy_score(y_test, y_pred)\n",
    "print(score)"
   ]
  },
  {
   "cell_type": "code",
   "execution_count": null,
   "id": "automotive-antigua",
   "metadata": {},
   "outputs": [
    {
     "name": "stdout",
     "output_type": "stream",
     "text": [
      "              precision    recall  f1-score   support\n",
      "\n",
      "       Angry       0.33      0.30      0.31       355\n",
      "     Disgust       0.66      0.40      0.50        47\n",
      "        Fear       0.55      0.28      0.37        94\n",
      "       Happy       0.60      0.60      0.60       904\n",
      "         Sad       0.32      0.31      0.32       454\n",
      "    Surprise       0.68      0.54      0.60       465\n",
      "     Neutral       0.53      0.61      0.56      1270\n",
      "\n",
      "    accuracy                           0.52      3589\n",
      "   macro avg       0.52      0.44      0.47      3589\n",
      "weighted avg       0.52      0.52      0.52      3589\n",
      "\n"
     ]
    }
   ],
   "source": [
    "print(classification_report(y_test, y_pred, target_names=emotions))"
   ]
  },
  {
   "cell_type": "markdown",
   "id": "fifteen-thirty",
   "metadata": {},
   "source": [
    "Accuracy is not improved by doing any of the following:\n",
    "- Oversampling and Undersampling\n",
    "- Only Oversampling\n",
    "- Only Undersampling\n",
    "\n",
    "We will not use these methods in our training."
   ]
  }
 ],
 "metadata": {
  "kernelspec": {
   "display_name": "Python 3",
   "language": "python",
   "name": "python3"
  },
  "language_info": {
   "codemirror_mode": {
    "name": "ipython",
    "version": 3
   },
   "file_extension": ".py",
   "mimetype": "text/x-python",
   "name": "python",
   "nbconvert_exporter": "python",
   "pygments_lexer": "ipython3",
   "version": "3.8.5"
  }
 },
 "nbformat": 4,
 "nbformat_minor": 5
}
