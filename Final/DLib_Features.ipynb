{
 "cells": [
  {
   "cell_type": "code",
   "execution_count": 1,
   "id": "supreme-satin",
   "metadata": {},
   "outputs": [],
   "source": [
    "import pandas as pd\n",
    "\n",
    "# Read Metadata\n",
    "meta_df = pd.read_csv('/Users/brensikeg/Desktop/Final/archive/fer2013/fer2013.csv')\n",
    "\n",
    "emotions = ['Angry', 'Disgust', 'Fear', 'Happy', 'Sad', 'Surprise', 'Neutral']\n",
    "\n",
    "meta_df = meta_df.rename(columns={\"emotion\":\"label\",\"pixels\":\"image\"})\n",
    "meta_df['emotion'] = meta_df['label'].apply(lambda x: emotions[int(x)])\n",
    "meta_df = meta_df.drop(columns=['Usage'])"
   ]
  },
  {
   "cell_type": "code",
   "execution_count": 2,
   "id": "refined-court",
   "metadata": {},
   "outputs": [],
   "source": [
    "import numpy as np\n",
    "\n",
    "meta_df[\"new_image\"] = meta_df[\"image\"].apply(lambda x: np.array(np.reshape(np.array(x.split(' ')).astype(int),(48,48))))\n",
    "meta_df = meta_df.drop(columns=['image'])"
   ]
  },
  {
   "cell_type": "code",
   "execution_count": 3,
   "id": "bridal-arizona",
   "metadata": {},
   "outputs": [
    {
     "data": {
      "text/html": [
       "<div>\n",
       "<style scoped>\n",
       "    .dataframe tbody tr th:only-of-type {\n",
       "        vertical-align: middle;\n",
       "    }\n",
       "\n",
       "    .dataframe tbody tr th {\n",
       "        vertical-align: top;\n",
       "    }\n",
       "\n",
       "    .dataframe thead th {\n",
       "        text-align: right;\n",
       "    }\n",
       "</style>\n",
       "<table border=\"1\" class=\"dataframe\">\n",
       "  <thead>\n",
       "    <tr style=\"text-align: right;\">\n",
       "      <th></th>\n",
       "      <th>label</th>\n",
       "      <th>emotion</th>\n",
       "      <th>new_image</th>\n",
       "    </tr>\n",
       "  </thead>\n",
       "  <tbody>\n",
       "    <tr>\n",
       "      <th>0</th>\n",
       "      <td>0</td>\n",
       "      <td>Angry</td>\n",
       "      <td>[[70, 80, 82, 72, 58, 58, 60, 63, 54, 58, 60, ...</td>\n",
       "    </tr>\n",
       "    <tr>\n",
       "      <th>1</th>\n",
       "      <td>0</td>\n",
       "      <td>Angry</td>\n",
       "      <td>[[151, 150, 147, 155, 148, 133, 111, 140, 170,...</td>\n",
       "    </tr>\n",
       "    <tr>\n",
       "      <th>2</th>\n",
       "      <td>2</td>\n",
       "      <td>Fear</td>\n",
       "      <td>[[231, 212, 156, 164, 174, 138, 161, 173, 182,...</td>\n",
       "    </tr>\n",
       "    <tr>\n",
       "      <th>3</th>\n",
       "      <td>4</td>\n",
       "      <td>Sad</td>\n",
       "      <td>[[24, 32, 36, 30, 32, 23, 19, 20, 30, 41, 21, ...</td>\n",
       "    </tr>\n",
       "    <tr>\n",
       "      <th>4</th>\n",
       "      <td>6</td>\n",
       "      <td>Neutral</td>\n",
       "      <td>[[4, 0, 0, 0, 0, 0, 0, 0, 0, 0, 0, 0, 3, 15, 2...</td>\n",
       "    </tr>\n",
       "    <tr>\n",
       "      <th>...</th>\n",
       "      <td>...</td>\n",
       "      <td>...</td>\n",
       "      <td>...</td>\n",
       "    </tr>\n",
       "    <tr>\n",
       "      <th>35882</th>\n",
       "      <td>6</td>\n",
       "      <td>Neutral</td>\n",
       "      <td>[[50, 36, 17, 22, 23, 29, 33, 39, 34, 37, 37, ...</td>\n",
       "    </tr>\n",
       "    <tr>\n",
       "      <th>35883</th>\n",
       "      <td>3</td>\n",
       "      <td>Happy</td>\n",
       "      <td>[[178, 174, 172, 173, 181, 188, 191, 194, 196,...</td>\n",
       "    </tr>\n",
       "    <tr>\n",
       "      <th>35884</th>\n",
       "      <td>0</td>\n",
       "      <td>Angry</td>\n",
       "      <td>[[17, 17, 16, 23, 28, 22, 19, 17, 25, 26, 20, ...</td>\n",
       "    </tr>\n",
       "    <tr>\n",
       "      <th>35885</th>\n",
       "      <td>3</td>\n",
       "      <td>Happy</td>\n",
       "      <td>[[30, 28, 28, 29, 31, 30, 42, 68, 79, 81, 77, ...</td>\n",
       "    </tr>\n",
       "    <tr>\n",
       "      <th>35886</th>\n",
       "      <td>2</td>\n",
       "      <td>Fear</td>\n",
       "      <td>[[19, 13, 14, 12, 13, 16, 21, 33, 50, 57, 71, ...</td>\n",
       "    </tr>\n",
       "  </tbody>\n",
       "</table>\n",
       "<p>35887 rows × 3 columns</p>\n",
       "</div>"
      ],
      "text/plain": [
       "       label  emotion                                          new_image\n",
       "0          0    Angry  [[70, 80, 82, 72, 58, 58, 60, 63, 54, 58, 60, ...\n",
       "1          0    Angry  [[151, 150, 147, 155, 148, 133, 111, 140, 170,...\n",
       "2          2     Fear  [[231, 212, 156, 164, 174, 138, 161, 173, 182,...\n",
       "3          4      Sad  [[24, 32, 36, 30, 32, 23, 19, 20, 30, 41, 21, ...\n",
       "4          6  Neutral  [[4, 0, 0, 0, 0, 0, 0, 0, 0, 0, 0, 0, 3, 15, 2...\n",
       "...      ...      ...                                                ...\n",
       "35882      6  Neutral  [[50, 36, 17, 22, 23, 29, 33, 39, 34, 37, 37, ...\n",
       "35883      3    Happy  [[178, 174, 172, 173, 181, 188, 191, 194, 196,...\n",
       "35884      0    Angry  [[17, 17, 16, 23, 28, 22, 19, 17, 25, 26, 20, ...\n",
       "35885      3    Happy  [[30, 28, 28, 29, 31, 30, 42, 68, 79, 81, 77, ...\n",
       "35886      2     Fear  [[19, 13, 14, 12, 13, 16, 21, 33, 50, 57, 71, ...\n",
       "\n",
       "[35887 rows x 3 columns]"
      ]
     },
     "execution_count": 3,
     "metadata": {},
     "output_type": "execute_result"
    }
   ],
   "source": [
    "meta_df"
   ]
  },
  {
   "cell_type": "code",
   "execution_count": 4,
   "id": "figured-pension",
   "metadata": {},
   "outputs": [],
   "source": [
    "import dlib\n",
    "import cv2\n",
    "from imutils import face_utils\n",
    "\n",
    "hogFaceDetector = dlib.get_frontal_face_detector()\n",
    "predictor = dlib.shape_predictor(\"/Users/brensikeg/Desktop/Final/shape_predictor_68_face_landmarks.dat\")\n",
    "\n",
    "features = []\n",
    "\n",
    "for image in meta_df[\"new_image\"]:\n",
    "    gray = image.astype('uint8')\n",
    "    faces = hogFaceDetector(gray, 1)\n",
    "    \n",
    "    for (i, rect) in enumerate(faces):\n",
    "        shape = predictor(gray, rect)\n",
    "        shape = face_utils.shape_to_np(shape)\n",
    "\n",
    "        \n",
    "    features.append(shape)"
   ]
  },
  {
   "cell_type": "code",
   "execution_count": 5,
   "id": "simple-possession",
   "metadata": {},
   "outputs": [
    {
     "name": "stderr",
     "output_type": "stream",
     "text": [
      "<ipython-input-5-cb369852f8b3>:11: RuntimeWarning: divide by zero encountered in double_scalars\n",
      "  bearing = math.atan((means[1]-pt[1])/(means[0]-pt[0]))\n"
     ]
    }
   ],
   "source": [
    "import math\n",
    "\n",
    "new_features = []\n",
    "for row in features:\n",
    "    means = row.mean(axis=0)\n",
    "\n",
    "    tmp = []\n",
    "    \n",
    "    for pt in row:\n",
    "        mag = math.sqrt((means[0]-pt[0])*(means[0]-pt[0]) + (means[1]-pt[1])*(means[1]-pt[1]))\n",
    "        bearing = math.atan((means[1]-pt[1])/(means[0]-pt[0]))\n",
    "        \n",
    "        tmp.append([pt[0], pt[1], mag, bearing])\n",
    "    \n",
    "    tmp = np.concatenate(tmp, axis=0)\n",
    "    \n",
    "    new_features.append(tmp)\n",
    "    "
   ]
  },
  {
   "cell_type": "code",
   "execution_count": 6,
   "id": "numerical-hazard",
   "metadata": {},
   "outputs": [],
   "source": [
    "from sklearn.model_selection import train_test_split\n",
    "\n",
    "X_train, X_test, y_train, y_test = train_test_split(np.array(new_features), np.array(meta_df[\"label\"]), test_size=0.20, random_state=42)"
   ]
  },
  {
   "cell_type": "code",
   "execution_count": 7,
   "id": "exterior-inspection",
   "metadata": {},
   "outputs": [],
   "source": [
    "from sklearn.svm import SVC\n",
    "\n",
    "clf = SVC(kernel='linear', class_weight='balanced')\n",
    "clf = clf.fit(X_train, y_train)"
   ]
  },
  {
   "cell_type": "code",
   "execution_count": 8,
   "id": "acknowledged-shelf",
   "metadata": {},
   "outputs": [
    {
     "name": "stdout",
     "output_type": "stream",
     "text": [
      "Predicting emotions on the testing set\n"
     ]
    }
   ],
   "source": [
    "print(\"Predicting emotions on the testing set\")\n",
    "y_pred = clf.predict(X_test)"
   ]
  },
  {
   "cell_type": "code",
   "execution_count": 9,
   "id": "intelligent-farmer",
   "metadata": {},
   "outputs": [
    {
     "name": "stdout",
     "output_type": "stream",
     "text": [
      "              precision    recall  f1-score   support\n",
      "\n",
      "       Angry       0.33      0.32      0.33       985\n",
      "     Disgust       0.05      0.40      0.09       102\n",
      "        Fear       0.24      0.13      0.17      1043\n",
      "       Happy       0.63      0.59      0.61      1765\n",
      "         Sad       0.31      0.20      0.24      1210\n",
      "    Surprise       0.44      0.53      0.48       795\n",
      "     Neutral       0.36      0.41      0.38      1278\n",
      "\n",
      "    accuracy                           0.38      7178\n",
      "   macro avg       0.34      0.37      0.33      7178\n",
      "weighted avg       0.40      0.38      0.38      7178\n",
      "\n"
     ]
    }
   ],
   "source": [
    "from sklearn.metrics import classification_report\n",
    "from sklearn.metrics import confusion_matrix\n",
    "print(classification_report(y_test, y_pred, target_names=emotions))"
   ]
  },
  {
   "cell_type": "code",
   "execution_count": 10,
   "id": "effective-prince",
   "metadata": {},
   "outputs": [
    {
     "name": "stdout",
     "output_type": "stream",
     "text": [
      "[[ 316  138   76   94   99   82  180]\n",
      " [  24   41    5    6   10    5   11]\n",
      " [ 129  172  136  136  136  160  174]\n",
      " [ 106  154  104 1034   88  107  172]\n",
      " [ 165  140  107  168  241   97  292]\n",
      " [  69   51   52   92   34  423   74]\n",
      " [ 145  155   90  122  158   90  518]]\n"
     ]
    }
   ],
   "source": [
    "print(confusion_matrix(y_test, y_pred, labels=range(len(emotions))))"
   ]
  },
  {
   "cell_type": "code",
   "execution_count": 11,
   "id": "labeled-vintage",
   "metadata": {},
   "outputs": [
    {
     "name": "stdout",
     "output_type": "stream",
     "text": [
      "0.3774031763722485\n"
     ]
    }
   ],
   "source": [
    "from sklearn.metrics import accuracy_score\n",
    "score = accuracy_score(y_test, y_pred)\n",
    "print(score)"
   ]
  },
  {
   "cell_type": "code",
   "execution_count": null,
   "id": "fantastic-salem",
   "metadata": {},
   "outputs": [],
   "source": []
  },
  {
   "cell_type": "code",
   "execution_count": null,
   "id": "shared-defense",
   "metadata": {},
   "outputs": [],
   "source": []
  },
  {
   "cell_type": "code",
   "execution_count": null,
   "id": "confidential-royalty",
   "metadata": {},
   "outputs": [],
   "source": []
  }
 ],
 "metadata": {
  "kernelspec": {
   "display_name": "Python 3",
   "language": "python",
   "name": "python3"
  },
  "language_info": {
   "codemirror_mode": {
    "name": "ipython",
    "version": 3
   },
   "file_extension": ".py",
   "mimetype": "text/x-python",
   "name": "python",
   "nbconvert_exporter": "python",
   "pygments_lexer": "ipython3",
   "version": "3.8.5"
  }
 },
 "nbformat": 4,
 "nbformat_minor": 5
}
