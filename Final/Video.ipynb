{
 "cells": [
  {
   "cell_type": "code",
   "execution_count": null,
   "id": "illegal-happening",
   "metadata": {},
   "outputs": [],
   "source": [
    "# References: \n",
    "# Original Plotting Code: https://github.com/abhijeet3922/FaceEmotion_ID/blob/master/real_time_video.py\n",
    "# Frontal Detector: https://github.com/opencv/opencv/tree/master/data/haarcascades\n",
    "\n",
    "from keras.preprocessing.image import img_to_array\n",
    "import imutils\n",
    "import cv2\n",
    "from keras.models import load_model\n",
    "import numpy as np"
   ]
  },
  {
   "cell_type": "code",
   "execution_count": null,
   "id": "right-pearl",
   "metadata": {},
   "outputs": [],
   "source": [
    "# set path for frontal detector and emotion detector\n",
    "detection_model_path = 'haarcascade/haarcascade_frontalface_default.xml'\n",
    "emotion_model_path = 'final_cnn_model.h5'"
   ]
  },
  {
   "cell_type": "code",
   "execution_count": null,
   "id": "viral-weekend",
   "metadata": {},
   "outputs": [],
   "source": [
    "# load frontal detector model and our groups trained emotion detector\n",
    "face_detection = cv2.CascadeClassifier(detection_model_path)\n",
    "emotion_classifier = load_model(emotion_model_path, compile=False)\n",
    "\n",
    "# emotion labels\n",
    "emotions = ['Angry', 'Disgust', 'Fear', 'Happy', 'Sad', 'Surprise', 'Neutral']"
   ]
  },
  {
   "cell_type": "code",
   "execution_count": null,
   "id": "tutorial-magnet",
   "metadata": {},
   "outputs": [],
   "source": [
    "# start video stream\n",
    "cv2.namedWindow('Facial Expression Recognizer')\n",
    "camera = cv2.VideoCapture(0)\n",
    "\n",
    "while camera.isOpened():\n",
    "    #read the frame\n",
    "    frame = camera.read()[1]\n",
    "    frame = imutils.resize(frame,width=1000)\n",
    "    \n",
    "    # get grayscale of frame\n",
    "    gray = cv2.cvtColor(frame, cv2.COLOR_BGR2GRAY)\n",
    "    \n",
    "    # detect faces in grayscale image\n",
    "    faces = face_detection.detectMultiScale(gray, scaleFactor=1.1, \n",
    "                                            minNeighbors=5, minSize=(30,30),\n",
    "                                            flags=cv2.CASCADE_SCALE_IMAGE)\n",
    "    \n",
    "    if len(faces) > 0:\n",
    "        faces = sorted(faces, reverse=True, key=lambda x: (x[2] - x[0]) * (x[3] - x[1]))[0]\n",
    "        (fX, fY, fW, fH) = faces\n",
    "        \n",
    "        # find region of interest in the grayscale image and then prepare\n",
    "        roi = gray[fY:fY + fH, fX:fX + fW]\n",
    "        \n",
    "        # resize image to match FER2013 size (48x48 pixels) \n",
    "        roi = cv2.resize(roi, (48, 48))\n",
    "        roi = roi.astype(\"float\") / 255.0\n",
    "        roi = img_to_array(roi)\n",
    "        roi = np.expand_dims(roi, axis=0)\n",
    "        \n",
    "        # make prediction on region of interest\n",
    "        preds = emotion_classifier.predict(roi)[0]\n",
    "        \n",
    "        # final prediction and label\n",
    "        emotion_probability = np.max(preds)\n",
    "        label = emotions[preds.argmax()]\n",
    "\n",
    "    frameClone = frame.copy()    \n",
    "    canvas = np.zeros((250, 300, 3), dtype=\"uint8\")   \n",
    "    \n",
    "    for (i, (emotion, prob)) in enumerate(zip(emotions, preds)):\n",
    "                # construct the label text\n",
    "                text = \"{}: {:.2f}%\".format(emotion, prob * 100)\n",
    "                w = int(prob * 300)\n",
    "                cv2.rectangle(canvas, (7, (i * 35) + 5),\n",
    "                (w, (i * 35) + 35), (0, 0, 255), -1)\n",
    "                cv2.putText(canvas, text, (10, (i * 35) + 23),\n",
    "                cv2.FONT_HERSHEY_SIMPLEX, 0.45,\n",
    "                (255, 255, 255), 2)\n",
    "                cv2.putText(frameClone, label, (fX, fY - 10),\n",
    "                cv2.FONT_HERSHEY_SIMPLEX, 0.45, (0, 0, 255), 2)\n",
    "                cv2.rectangle(frameClone, (fX, fY), (fX + fW, fY + fH),\n",
    "                              (0, 0, 255), 2)\n",
    "\n",
    "    cv2.imshow('Facial Expression Recognizer', frameClone)\n",
    "    cv2.imshow('Emotion Probabilities', canvas)\n",
    "    if cv2.waitKey(1) & 0xFF == ord('q'):\n",
    "        break\n",
    "        \n",
    "camera.release()\n",
    "cv2.destroyAllWindows()"
   ]
  }
 ],
 "metadata": {
  "kernelspec": {
   "display_name": "Python 3",
   "language": "python",
   "name": "python3"
  },
  "language_info": {
   "codemirror_mode": {
    "name": "ipython",
    "version": 3
   },
   "file_extension": ".py",
   "mimetype": "text/x-python",
   "name": "python",
   "nbconvert_exporter": "python",
   "pygments_lexer": "ipython3",
   "version": "3.8.5"
  }
 },
 "nbformat": 4,
 "nbformat_minor": 5
}
