{
  "nbformat": 4,
  "nbformat_minor": 0,
  "metadata": {
    "kernelspec": {
      "display_name": "Python 3",
      "language": "python",
      "name": "python3"
    },
    "language_info": {
      "codemirror_mode": {
        "name": "ipython",
        "version": 3
      },
      "file_extension": ".py",
      "mimetype": "text/x-python",
      "name": "python",
      "nbconvert_exporter": "python",
      "pygments_lexer": "ipython3",
      "version": "3.8.6"
    },
    "colab": {
      "name": "cnn.ipynb",
      "provenance": [],
      "collapsed_sections": [],
      "toc_visible": true
    },
    "accelerator": "GPU"
  },
  "cells": [
    {
      "cell_type": "code",
      "metadata": {
        "id": "U01a2QiIai20"
      },
      "source": [
        "import numpy as np\n",
        "import pandas as pd\n",
        "import matplotlib.pyplot as plt\n",
        "import seaborn as sns\n",
        "import time\n",
        "from sklearn.model_selection import train_test_split\n",
        "from sklearn.metrics import confusion_matrix\n",
        "np.random.seed(2)\n",
        "\n",
        "import keras\n",
        "from keras.preprocessing.image import ImageDataGenerator\n",
        "from keras.callbacks import ReduceLROnPlateau\n",
        "from keras.utils.np_utils import to_categorical\n",
        "from keras.models import Sequential\n",
        "import keras.optimizers as opt\n",
        "from keras.layers.convolutional import Conv2D, MaxPooling2D, SeparableConv2D\n",
        "from keras.layers.core import Dropout, Flatten, Dense\n",
        "from keras.layers.normalization import BatchNormalization\n",
        "from keras.callbacks import EarlyStopping\n",
        "from keras.layers import Input\n",
        "from keras.models import load_model"
      ],
      "execution_count": 116,
      "outputs": []
    },
    {
      "cell_type": "code",
      "metadata": {
        "colab": {
          "base_uri": "https://localhost:8080/",
          "height": 204
        },
        "id": "ZV4ZInS1ai23",
        "outputId": "ffe096d8-0364-48f5-93f2-54368441a690"
      },
      "source": [
        "df = pd.read_csv(\"fer2013.csv\")\n",
        "df.head()"
      ],
      "execution_count": 117,
      "outputs": [
        {
          "output_type": "execute_result",
          "data": {
            "text/html": [
              "<div>\n",
              "<style scoped>\n",
              "    .dataframe tbody tr th:only-of-type {\n",
              "        vertical-align: middle;\n",
              "    }\n",
              "\n",
              "    .dataframe tbody tr th {\n",
              "        vertical-align: top;\n",
              "    }\n",
              "\n",
              "    .dataframe thead th {\n",
              "        text-align: right;\n",
              "    }\n",
              "</style>\n",
              "<table border=\"1\" class=\"dataframe\">\n",
              "  <thead>\n",
              "    <tr style=\"text-align: right;\">\n",
              "      <th></th>\n",
              "      <th>emotion</th>\n",
              "      <th>pixels</th>\n",
              "      <th>Usage</th>\n",
              "    </tr>\n",
              "  </thead>\n",
              "  <tbody>\n",
              "    <tr>\n",
              "      <th>0</th>\n",
              "      <td>0</td>\n",
              "      <td>70 80 82 72 58 58 60 63 54 58 60 48 89 115 121...</td>\n",
              "      <td>Training</td>\n",
              "    </tr>\n",
              "    <tr>\n",
              "      <th>1</th>\n",
              "      <td>0</td>\n",
              "      <td>151 150 147 155 148 133 111 140 170 174 182 15...</td>\n",
              "      <td>Training</td>\n",
              "    </tr>\n",
              "    <tr>\n",
              "      <th>2</th>\n",
              "      <td>2</td>\n",
              "      <td>231 212 156 164 174 138 161 173 182 200 106 38...</td>\n",
              "      <td>Training</td>\n",
              "    </tr>\n",
              "    <tr>\n",
              "      <th>3</th>\n",
              "      <td>4</td>\n",
              "      <td>24 32 36 30 32 23 19 20 30 41 21 22 32 34 21 1...</td>\n",
              "      <td>Training</td>\n",
              "    </tr>\n",
              "    <tr>\n",
              "      <th>4</th>\n",
              "      <td>6</td>\n",
              "      <td>4 0 0 0 0 0 0 0 0 0 0 0 3 15 23 28 48 50 58 84...</td>\n",
              "      <td>Training</td>\n",
              "    </tr>\n",
              "  </tbody>\n",
              "</table>\n",
              "</div>"
            ],
            "text/plain": [
              "   emotion                                             pixels     Usage\n",
              "0        0  70 80 82 72 58 58 60 63 54 58 60 48 89 115 121...  Training\n",
              "1        0  151 150 147 155 148 133 111 140 170 174 182 15...  Training\n",
              "2        2  231 212 156 164 174 138 161 173 182 200 106 38...  Training\n",
              "3        4  24 32 36 30 32 23 19 20 30 41 21 22 32 34 21 1...  Training\n",
              "4        6  4 0 0 0 0 0 0 0 0 0 0 0 3 15 23 28 48 50 58 84...  Training"
            ]
          },
          "metadata": {
            "tags": []
          },
          "execution_count": 117
        }
      ]
    },
    {
      "cell_type": "code",
      "metadata": {
        "colab": {
          "base_uri": "https://localhost:8080/",
          "height": 173
        },
        "id": "9EkBGUXLai24",
        "outputId": "e0c58136-69bd-4dd5-9847-22e05aa6e722"
      },
      "source": [
        "df.groupby('Usage').count()"
      ],
      "execution_count": 118,
      "outputs": [
        {
          "output_type": "execute_result",
          "data": {
            "text/html": [
              "<div>\n",
              "<style scoped>\n",
              "    .dataframe tbody tr th:only-of-type {\n",
              "        vertical-align: middle;\n",
              "    }\n",
              "\n",
              "    .dataframe tbody tr th {\n",
              "        vertical-align: top;\n",
              "    }\n",
              "\n",
              "    .dataframe thead th {\n",
              "        text-align: right;\n",
              "    }\n",
              "</style>\n",
              "<table border=\"1\" class=\"dataframe\">\n",
              "  <thead>\n",
              "    <tr style=\"text-align: right;\">\n",
              "      <th></th>\n",
              "      <th>emotion</th>\n",
              "      <th>pixels</th>\n",
              "    </tr>\n",
              "    <tr>\n",
              "      <th>Usage</th>\n",
              "      <th></th>\n",
              "      <th></th>\n",
              "    </tr>\n",
              "  </thead>\n",
              "  <tbody>\n",
              "    <tr>\n",
              "      <th>PrivateTest</th>\n",
              "      <td>3589</td>\n",
              "      <td>3589</td>\n",
              "    </tr>\n",
              "    <tr>\n",
              "      <th>PublicTest</th>\n",
              "      <td>3589</td>\n",
              "      <td>3589</td>\n",
              "    </tr>\n",
              "    <tr>\n",
              "      <th>Training</th>\n",
              "      <td>28709</td>\n",
              "      <td>28709</td>\n",
              "    </tr>\n",
              "  </tbody>\n",
              "</table>\n",
              "</div>"
            ],
            "text/plain": [
              "             emotion  pixels\n",
              "Usage                       \n",
              "PrivateTest     3589    3589\n",
              "PublicTest      3589    3589\n",
              "Training       28709   28709"
            ]
          },
          "metadata": {
            "tags": []
          },
          "execution_count": 118
        }
      ]
    },
    {
      "cell_type": "code",
      "metadata": {
        "colab": {
          "base_uri": "https://localhost:8080/",
          "height": 297
        },
        "id": "3rITl_VWai25",
        "outputId": "cbce1f6e-c37a-4fc4-dfb2-ab917f0f9214"
      },
      "source": [
        "df.groupby('emotion').count()"
      ],
      "execution_count": 119,
      "outputs": [
        {
          "output_type": "execute_result",
          "data": {
            "text/html": [
              "<div>\n",
              "<style scoped>\n",
              "    .dataframe tbody tr th:only-of-type {\n",
              "        vertical-align: middle;\n",
              "    }\n",
              "\n",
              "    .dataframe tbody tr th {\n",
              "        vertical-align: top;\n",
              "    }\n",
              "\n",
              "    .dataframe thead th {\n",
              "        text-align: right;\n",
              "    }\n",
              "</style>\n",
              "<table border=\"1\" class=\"dataframe\">\n",
              "  <thead>\n",
              "    <tr style=\"text-align: right;\">\n",
              "      <th></th>\n",
              "      <th>pixels</th>\n",
              "      <th>Usage</th>\n",
              "    </tr>\n",
              "    <tr>\n",
              "      <th>emotion</th>\n",
              "      <th></th>\n",
              "      <th></th>\n",
              "    </tr>\n",
              "  </thead>\n",
              "  <tbody>\n",
              "    <tr>\n",
              "      <th>0</th>\n",
              "      <td>4953</td>\n",
              "      <td>4953</td>\n",
              "    </tr>\n",
              "    <tr>\n",
              "      <th>1</th>\n",
              "      <td>547</td>\n",
              "      <td>547</td>\n",
              "    </tr>\n",
              "    <tr>\n",
              "      <th>2</th>\n",
              "      <td>5121</td>\n",
              "      <td>5121</td>\n",
              "    </tr>\n",
              "    <tr>\n",
              "      <th>3</th>\n",
              "      <td>8989</td>\n",
              "      <td>8989</td>\n",
              "    </tr>\n",
              "    <tr>\n",
              "      <th>4</th>\n",
              "      <td>6077</td>\n",
              "      <td>6077</td>\n",
              "    </tr>\n",
              "    <tr>\n",
              "      <th>5</th>\n",
              "      <td>4002</td>\n",
              "      <td>4002</td>\n",
              "    </tr>\n",
              "    <tr>\n",
              "      <th>6</th>\n",
              "      <td>6198</td>\n",
              "      <td>6198</td>\n",
              "    </tr>\n",
              "  </tbody>\n",
              "</table>\n",
              "</div>"
            ],
            "text/plain": [
              "         pixels  Usage\n",
              "emotion               \n",
              "0          4953   4953\n",
              "1           547    547\n",
              "2          5121   5121\n",
              "3          8989   8989\n",
              "4          6077   6077\n",
              "5          4002   4002\n",
              "6          6198   6198"
            ]
          },
          "metadata": {
            "tags": []
          },
          "execution_count": 119
        }
      ]
    },
    {
      "cell_type": "code",
      "metadata": {
        "id": "Fi2jZ1BIai25"
      },
      "source": [
        "train = df[df.Usage == 'Training']\n",
        "val = df[df.Usage == 'PublicTest']\n",
        "test = df[df.Usage == 'PrivateTest']"
      ],
      "execution_count": 120,
      "outputs": []
    },
    {
      "cell_type": "code",
      "metadata": {
        "id": "tIk36I__ai26"
      },
      "source": [
        "train = train.drop(labels=['Usage'], axis=1)\n",
        "val = val.drop(labels=['Usage'], axis=1)\n",
        "test = test.drop(labels=['Usage'], axis=1)"
      ],
      "execution_count": 121,
      "outputs": []
    },
    {
      "cell_type": "code",
      "metadata": {
        "id": "JOicGMTZai28"
      },
      "source": [
        "y_train = train[\"emotion\"]\n",
        "y_val = val[\"emotion\"]\n",
        "y_test = test[\"emotion\"]\n",
        "\n",
        "X_train = train[\"pixels\"]\n",
        "X_val = val[\"pixels\"]\n",
        "X_test = test[\"pixels\"]"
      ],
      "execution_count": 122,
      "outputs": []
    },
    {
      "cell_type": "code",
      "metadata": {
        "id": "sZoNn4FPai28"
      },
      "source": [
        "def preprocess(X):\n",
        "    X = np.array([np.fromstring(image, np.uint8, sep=' ') for image in X])\n",
        "    X = X/255.0\n",
        "    X = X.reshape(-1, 48, 48, 1)\n",
        "    return X"
      ],
      "execution_count": 123,
      "outputs": []
    },
    {
      "cell_type": "code",
      "metadata": {
        "id": "Z2_IwKv4ai29"
      },
      "source": [
        "X_train = preprocess(X_train)\n",
        "X_val = preprocess(X_val)\n",
        "X_test = preprocess(X_test)"
      ],
      "execution_count": 124,
      "outputs": []
    },
    {
      "cell_type": "code",
      "metadata": {
        "colab": {
          "base_uri": "https://localhost:8080/"
        },
        "id": "scOMBfQLai29",
        "outputId": "b35ea249-1e18-4523-eedd-b147efa069b5"
      },
      "source": [
        "print(\"Is any label null in training set:\", y_train.isnull().any())\n",
        "print(\"Is any label null in validation set:\", y_val.isnull().any())\n",
        "print(\"Is any label null in testing set:\", y_test.isnull().any())\n",
        "\n",
        "y_train = to_categorical(y_train, num_classes=7)\n",
        "y_val = to_categorical(y_val, num_classes=7)\n",
        "y_test = to_categorical(y_test, num_classes=7)"
      ],
      "execution_count": 125,
      "outputs": [
        {
          "output_type": "stream",
          "text": [
            "Is any label null in training set: False\n",
            "Is any label null in validation set: False\n",
            "Is any label null in testing set: False\n"
          ],
          "name": "stdout"
        }
      ]
    },
    {
      "cell_type": "code",
      "metadata": {
        "id": "zUXsXYtqai29"
      },
      "source": [
        ""
      ],
      "execution_count": 125,
      "outputs": []
    },
    {
      "cell_type": "code",
      "metadata": {
        "id": "oJEnkWzEai2-"
      },
      "source": [
        "model = Sequential()\n",
        "model.add(Conv2D(32, (3,3), padding=\"Same\", activation='relu', input_shape=(48,48,1)))\n",
        "model.add(BatchNormalization())\n",
        "model.add(Conv2D(32, (5,5), padding=\"Same\", activation='relu'))\n",
        "model.add(MaxPooling2D((2,2)))\n",
        "model.add(Dropout(0.5))\n",
        "\n",
        "model.add(Conv2D(64, (3,3), padding=\"Same\", activation='relu'))\n",
        "model.add(BatchNormalization())\n",
        "model.add(Conv2D(64, (5,5), padding=\"Same\", activation='relu'))\n",
        "model.add(MaxPooling2D((2,2))) \n",
        "model.add(Dropout(0.5))\n",
        "\n",
        "model.add(Conv2D(128, (3,3), padding=\"Same\", activation='relu'))\n",
        "model.add(BatchNormalization())\n",
        "model.add(Conv2D(128, (5,5), padding=\"Same\", activation='relu'))\n",
        "model.add(MaxPooling2D((2,2))) \n",
        "model.add(Dropout(0.5))\n",
        "\n",
        "model.add(Conv2D(256, (3,3), padding=\"Same\", activation='relu'))\n",
        "model.add(BatchNormalization())\n",
        "model.add(Conv2D(256, (5,5), padding=\"Same\", activation='relu'))\n",
        "model.add(MaxPooling2D((2,2))) \n",
        "model.add(Dropout(0.5))\n",
        "\n",
        "model.add(Flatten())\n",
        "#model.add(Dense(256, activation='relu'))\n",
        "model.add(Dense(512, activation='relu'))\n",
        "model.add(Dense(7, activation='softmax'))"
      ],
      "execution_count": 126,
      "outputs": []
    },
    {
      "cell_type": "code",
      "metadata": {
        "id": "1gYwAXvgai2-"
      },
      "source": [
        "# simple early stopping\n",
        "es = EarlyStopping(monitor='loss', mode='min', verbose=1)\n",
        "optimizer = opt.Adam(lr = 0.001)\n",
        "lr_anneal = ReduceLROnPlateau(monitor = 'val_accuracy', patience=3, factor=0.2, min_lr=1e-6)"
      ],
      "execution_count": 127,
      "outputs": []
    },
    {
      "cell_type": "code",
      "metadata": {
        "id": "lZmHlg68ai2_"
      },
      "source": [
        "model.compile(optimizer=optimizer, loss='categorical_crossentropy', metrics=['accuracy'])"
      ],
      "execution_count": 128,
      "outputs": []
    },
    {
      "cell_type": "code",
      "metadata": {
        "colab": {
          "base_uri": "https://localhost:8080/"
        },
        "id": "rAcw5kwrai2_",
        "outputId": "a98ec36c-9bf4-4864-a70f-915f24a2c484"
      },
      "source": [
        "start = time.time()\n",
        "history = model.fit(X_train, y_train, validation_data=(X_val, y_val), epochs=50, batch_size = 100, callbacks=[es,lr_anneal])\n",
        "end = time.time()\n",
        "print('Elasped Time in minutes:  %.2f' % (end - start)/60)"
      ],
      "execution_count": 129,
      "outputs": [
        {
          "output_type": "stream",
          "text": [
            "Epoch 1/50\n",
            "288/288 [==============================] - 26s 86ms/step - loss: 2.4515 - accuracy: 0.2320 - val_loss: 1.9248 - val_accuracy: 0.1694\n",
            "Epoch 2/50\n",
            "288/288 [==============================] - 24s 85ms/step - loss: 1.5964 - accuracy: 0.3746 - val_loss: 1.6490 - val_accuracy: 0.3600\n",
            "Epoch 3/50\n",
            "288/288 [==============================] - 24s 85ms/step - loss: 1.4295 - accuracy: 0.4466 - val_loss: 1.3462 - val_accuracy: 0.4912\n",
            "Epoch 4/50\n",
            "288/288 [==============================] - 24s 85ms/step - loss: 1.3248 - accuracy: 0.4910 - val_loss: 1.2709 - val_accuracy: 0.5202\n",
            "Epoch 5/50\n",
            "288/288 [==============================] - 24s 84ms/step - loss: 1.2656 - accuracy: 0.5172 - val_loss: 1.3528 - val_accuracy: 0.4859\n",
            "Epoch 6/50\n",
            "288/288 [==============================] - 24s 84ms/step - loss: 1.2143 - accuracy: 0.5398 - val_loss: 1.1886 - val_accuracy: 0.5472\n",
            "Epoch 7/50\n",
            "288/288 [==============================] - 24s 85ms/step - loss: 1.1738 - accuracy: 0.5541 - val_loss: 1.1301 - val_accuracy: 0.5659\n",
            "Epoch 8/50\n",
            "288/288 [==============================] - 24s 84ms/step - loss: 1.1406 - accuracy: 0.5616 - val_loss: 1.1443 - val_accuracy: 0.5662\n",
            "Epoch 9/50\n",
            "288/288 [==============================] - 24s 84ms/step - loss: 1.1088 - accuracy: 0.5834 - val_loss: 1.1816 - val_accuracy: 0.5450\n",
            "Epoch 10/50\n",
            "288/288 [==============================] - 24s 85ms/step - loss: 1.0837 - accuracy: 0.5880 - val_loss: 1.0919 - val_accuracy: 0.5960\n",
            "Epoch 11/50\n",
            "288/288 [==============================] - 24s 84ms/step - loss: 1.0620 - accuracy: 0.5990 - val_loss: 1.0833 - val_accuracy: 0.5977\n",
            "Epoch 12/50\n",
            "288/288 [==============================] - 24s 85ms/step - loss: 1.0293 - accuracy: 0.6130 - val_loss: 1.2002 - val_accuracy: 0.5567\n",
            "Epoch 13/50\n",
            "288/288 [==============================] - 24s 84ms/step - loss: 1.0165 - accuracy: 0.6159 - val_loss: 1.0565 - val_accuracy: 0.5977\n",
            "Epoch 14/50\n",
            "288/288 [==============================] - 24s 85ms/step - loss: 0.9968 - accuracy: 0.6186 - val_loss: 1.1003 - val_accuracy: 0.6082\n",
            "Epoch 15/50\n",
            "288/288 [==============================] - 24s 85ms/step - loss: 0.9817 - accuracy: 0.6283 - val_loss: 1.1119 - val_accuracy: 0.5965\n",
            "Epoch 16/50\n",
            "288/288 [==============================] - 24s 85ms/step - loss: 0.9622 - accuracy: 0.6368 - val_loss: 1.1034 - val_accuracy: 0.5996\n",
            "Epoch 17/50\n",
            "288/288 [==============================] - 24s 85ms/step - loss: 0.9666 - accuracy: 0.6294 - val_loss: 1.1615 - val_accuracy: 0.6035\n",
            "Epoch 18/50\n",
            "288/288 [==============================] - 24s 85ms/step - loss: 0.8973 - accuracy: 0.6598 - val_loss: 1.0303 - val_accuracy: 0.6311\n",
            "Epoch 19/50\n",
            "288/288 [==============================] - 24s 85ms/step - loss: 0.8442 - accuracy: 0.6810 - val_loss: 1.0466 - val_accuracy: 0.6291\n",
            "Epoch 20/50\n",
            "288/288 [==============================] - 24s 85ms/step - loss: 0.8276 - accuracy: 0.6911 - val_loss: 1.0282 - val_accuracy: 0.6330\n",
            "Epoch 21/50\n",
            "288/288 [==============================] - 24s 85ms/step - loss: 0.8027 - accuracy: 0.6962 - val_loss: 1.0397 - val_accuracy: 0.6353\n",
            "Epoch 22/50\n",
            "288/288 [==============================] - 24s 85ms/step - loss: 0.7994 - accuracy: 0.7021 - val_loss: 1.0611 - val_accuracy: 0.6258\n",
            "Epoch 23/50\n",
            "288/288 [==============================] - 25s 85ms/step - loss: 0.7766 - accuracy: 0.7064 - val_loss: 1.0797 - val_accuracy: 0.6269\n",
            "Epoch 24/50\n",
            "288/288 [==============================] - 25s 86ms/step - loss: 0.7700 - accuracy: 0.7077 - val_loss: 1.0662 - val_accuracy: 0.6339\n",
            "Epoch 25/50\n",
            "288/288 [==============================] - 25s 85ms/step - loss: 0.7513 - accuracy: 0.7173 - val_loss: 1.0536 - val_accuracy: 0.6400\n",
            "Epoch 26/50\n",
            "288/288 [==============================] - 25s 85ms/step - loss: 0.7375 - accuracy: 0.7224 - val_loss: 1.0500 - val_accuracy: 0.6378\n",
            "Epoch 27/50\n",
            "288/288 [==============================] - 25s 85ms/step - loss: 0.7284 - accuracy: 0.7265 - val_loss: 1.0592 - val_accuracy: 0.6400\n",
            "Epoch 28/50\n",
            "288/288 [==============================] - 25s 85ms/step - loss: 0.7334 - accuracy: 0.7253 - val_loss: 1.0613 - val_accuracy: 0.6406\n",
            "Epoch 29/50\n",
            "288/288 [==============================] - 25s 85ms/step - loss: 0.7321 - accuracy: 0.7231 - val_loss: 1.0602 - val_accuracy: 0.6408\n",
            "Epoch 30/50\n",
            "288/288 [==============================] - 25s 86ms/step - loss: 0.7280 - accuracy: 0.7265 - val_loss: 1.0580 - val_accuracy: 0.6406\n",
            "Epoch 31/50\n",
            "288/288 [==============================] - 25s 85ms/step - loss: 0.7239 - accuracy: 0.7263 - val_loss: 1.0694 - val_accuracy: 0.6408\n",
            "Epoch 32/50\n",
            "288/288 [==============================] - 25s 86ms/step - loss: 0.7161 - accuracy: 0.7293 - val_loss: 1.0637 - val_accuracy: 0.6403\n",
            "Epoch 33/50\n",
            "288/288 [==============================] - 25s 86ms/step - loss: 0.7167 - accuracy: 0.7291 - val_loss: 1.0613 - val_accuracy: 0.6397\n",
            "Epoch 34/50\n",
            "288/288 [==============================] - 25s 85ms/step - loss: 0.7174 - accuracy: 0.7283 - val_loss: 1.0635 - val_accuracy: 0.6389\n",
            "Epoch 35/50\n",
            "288/288 [==============================] - 25s 85ms/step - loss: 0.7064 - accuracy: 0.7309 - val_loss: 1.0615 - val_accuracy: 0.6403\n",
            "Epoch 36/50\n",
            "288/288 [==============================] - 25s 86ms/step - loss: 0.7092 - accuracy: 0.7295 - val_loss: 1.0622 - val_accuracy: 0.6408\n",
            "Epoch 37/50\n",
            "288/288 [==============================] - 25s 85ms/step - loss: 0.7081 - accuracy: 0.7290 - val_loss: 1.0634 - val_accuracy: 0.6411\n",
            "Epoch 00037: early stopping\n",
            "Elasped Time in minutes: 15.120971417427063\n"
          ],
          "name": "stdout"
        }
      ]
    },
    {
      "cell_type": "code",
      "metadata": {
        "id": "S3BKEYTNai2_"
      },
      "source": [
        "model.save('final_model.h5')"
      ],
      "execution_count": 130,
      "outputs": []
    },
    {
      "cell_type": "code",
      "metadata": {
        "colab": {
          "base_uri": "https://localhost:8080/",
          "height": 268
        },
        "id": "9wY8mnQSjf9L",
        "outputId": "b5661c9a-9d3d-440c-b202-880ac6ba36fd"
      },
      "source": [
        "fig, ax = plt.subplots(2,1)\n",
        "ax[0].plot(history.history['loss'], color='b', label=\"Training loss\")\n",
        "ax[0].plot(history.history['val_loss'], color='r', label=\"Validation loss\",axes =ax[0])\n",
        "legend = ax[0].legend(loc='best', shadow=True)\n",
        "\n",
        "ax[1].plot(history.history['accuracy'], color='b', label=\"Training accuracy\")\n",
        "ax[1].plot(history.history['val_accuracy'], color='r',label=\"Validation accuracy\")\n",
        "legend = ax[1].legend(loc='best', shadow=True)"
      ],
      "execution_count": 131,
      "outputs": [
        {
          "output_type": "display_data",
          "data": {
            "image/png": "[encoded data removed]",
            "text/plain": [
              "<Figure size 432x288 with 2 Axes>"
            ]
          },
          "metadata": {
            "tags": [],
            "needs_background": "light"
          }
        }
      ]
    },
    {
      "cell_type": "code",
      "metadata": {
        "id": "p8x3H62KiMZy"
      },
      "source": [
        "save_model = load_model('final_model.h5')"
      ],
      "execution_count": 135,
      "outputs": []
    },
    {
      "cell_type": "code",
      "metadata": {
        "id": "JagJEbHui8MX"
      },
      "source": [
        "def plot_confusion_matrix(cm, classes,\n",
        "                          normalize=False,\n",
        "                          title='Confusion matrix',\n",
        "                          cmap=plt.cm.Blues):\n",
        "  \n",
        "    plt.imshow(cm, interpolation='nearest', cmap=cmap)\n",
        "    plt.title(title)\n",
        "    plt.colorbar()\n",
        "    tick_marks = np.arange(len(classes))\n",
        "    plt.xticks(tick_marks, classes, rotation=45)\n",
        "    plt.yticks(tick_marks, classes)\n",
        "    \n",
        "    \n",
        "    if normalize:\n",
        "        cm = cm.astype('float') / cm.sum(axis=1)[:, np.newaxis]\n",
        "\n",
        "    thresh = cm.max() / 2.\n",
        "    for i, j in itertools.product(range(cm.shape[0]), range(cm.shape[1])):\n",
        "        plt.text(j, i, cm[i, j],\n",
        "                 horizontalalignment=\"center\",\n",
        "                 color=\"white\" if cm[i, j] > thresh else \"black\")\n",
        "\n",
        "    labels = \"0=Angry, 1=Disgust, 2=Fear, 3=Happy, 4=Sad, 5=Surprise, 6=Neutral\"\n",
        "    plt.tight_layout()\n",
        "    plt.ylabel('True label')\n",
        "    plt.xlabel('Predicted label \\n\\n' + labels)"
      ],
      "execution_count": 149,
      "outputs": []
    },
    {
      "cell_type": "code",
      "metadata": {
        "colab": {
          "base_uri": "https://localhost:8080/",
          "height": 335
        },
        "id": "FnaKEgW8GXK1",
        "outputId": "b6f7b0c1-2a6a-46d5-d7ea-1225606a78f6"
      },
      "source": [
        "# Predict the values from the validation dataset\n",
        "y_pred = save_model.predict(X_val)\n",
        "# Convert predictions classes to one hot vectors \n",
        "y_pred_classes = np.argmax(y_pred,axis = 1) \n",
        "# Convert validation observations to one hot vectors\n",
        "y_true = np.argmax(y_val,axis = 1) \n",
        "# compute the confusion matrix\n",
        "confusion_mtx = confusion_matrix(y_true, y_pred_classes) \n",
        "# plot the confusion matrix\n",
        "plot_confusion_matrix(confusion_mtx, classes = range(7))\n"
      ],
      "execution_count": 151,
      "outputs": [
        {
          "output_type": "display_data",
          "data": {
            "image/png": "[encoded data removed]",
            "text/plain": [
              "<Figure size 432x288 with 2 Axes>"
            ]
          },
          "metadata": {
            "tags": [],
            "needs_background": "light"
          }
        }
      ]
    },
    {
      "cell_type": "code",
      "metadata": {
        "colab": {
          "base_uri": "https://localhost:8080/"
        },
        "id": "_uagRXFTIq5U",
        "outputId": "30d3527d-ad5f-4afb-980f-dce4dd343986"
      },
      "source": [
        "score, acc = save_model.evaluate(X_test, y_test, verbose=0)\n",
        "print('Test score: %.3f'% score)\n",
        "print('Test accuracry: %.3f' % (acc * 100.0))"
      ],
      "execution_count": 152,
      "outputs": [
        {
          "output_type": "stream",
          "text": [
            "Test score: 0.991\n",
            "Test accuracry: 66.091\n"
          ],
          "name": "stdout"
        }
      ]
    }
  ]
}